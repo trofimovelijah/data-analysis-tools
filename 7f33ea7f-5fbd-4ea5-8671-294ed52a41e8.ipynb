{
 "cells": [
  {
   "cell_type": "markdown",
   "metadata": {},
   "source": [
    "# Рекомендация тарифов"
   ]
  },
  {
   "cell_type": "markdown",
   "metadata": {},
   "source": [
    "## Описание проекта\n",
    "Оператор мобильной связи `Мегалайн` выяснил: многие клиенты пользуются архивными тарифами. Они хотят построить систему, способную проанализировать поведение клиентов и предложить пользователям новый тариф: «`Смарт`» или «`Ультра`».\n",
    "\n",
    "В вашем распоряжении данные о поведении клиентов, которые уже перешли на эти тарифы (из проекта курса «`Статистический анализ данных`»). Нужно построить модель для задачи классификации, которая выберет подходящий тариф. Предобработка данных не понадобится — вы её уже сделали."
   ]
  },
  {
   "cell_type": "markdown",
   "metadata": {},
   "source": [
    "## Цель выполнения проекта\n",
    "Построение модели для задачи классификации (выбор подходящего тарифа мобильной связи) с максимально большим значением `accuracy`."
   ]
  },
  {
   "cell_type": "markdown",
   "metadata": {},
   "source": [
    "## Критерии успешной реализации проекта\n",
    "Построение модели с максимально большим значением `accuracy`. Чтобы сдать проект успешно, нужно довести долю правильных ответов по крайней мере до `0.75`. \n",
    "\n",
    "Выполнить проверку `accuracy` на тестовой выборке самостоятельно.\n",
    "\n",
    "Критерии оценки проекта, которыми руководствуются ревьюверы:\n",
    "\n",
    "- как вы изучаете данные после загрузки?\n",
    "- корректно ли разделяете данные на выборки?\n",
    "- как выбираете размеры выборок?\n",
    "- правильно ли вы оцениваете качество моделей в исследовании?\n",
    "- какие модели и гиперпараметры вы используете?\n",
    "- какие выводы об исследовании делаете?\n",
    "- правильно ли тестируете модели?\n",
    "- насколько высокое значение accuracy получаете?\n",
    "- соблюдаете структуру проекта и поддерживаете аккуратность кода?"
   ]
  },
  {
   "cell_type": "markdown",
   "metadata": {},
   "source": [
    "## Задачи проекта\n",
    "В рамках проекта решается ряд задач, выполнение которых способствует достижению цели проекта:\n",
    "\n",
    "1. [открытие файла с данными и изучение его](#Изучение-общей-информации)\n",
    "    * загрузка библиотек\n",
    "    * открытие датасета\n",
    "    * определение целевого параметра\n",
    "2. [разделение исходных данных на обучающую, валидационную и тестовую выборки](#Разделение-исходных-данных-на-выборки)\n",
    "3. [исследование качества разных моделей, путём изменения гиперпараметров](#Исследование-модели)\n",
    "    * исследование модели классификации деревом решений\n",
    "    * исследование модели классификации - случайный лес\n",
    "    * исследование модели классификации - логическая регрессия\n",
    "    * краткие выводы исследования\n",
    "4. [проверка качества модели на тестовой выборке](#Проверка-модели-на-тестовой-выборке)\n",
    "5. [дополнительное задание: проверьте модели на вменяемость](#Проверка-модели-на-адекватность-(бонус)) \n",
    "6. [заполнение чек-листа готовности проекта](#Чек-лист-готовности-проекта)"
   ]
  },
  {
   "cell_type": "markdown",
   "metadata": {},
   "source": [
    "## Исходные данные\n",
    "Откройте файл с данными и изучите его. Путь к файлу: `/datasets/users_behavior.csv`.\n",
    "\n",
    "Каждый объект в наборе данных — это информация о поведении одного пользователя за месяц.\n",
    "\n",
    "В датасете присутствуют следующие параметры:\n",
    "\n",
    "- `сalls` — количество звонков,\n",
    "- `minutes` — суммарная длительность звонков в минутах,\n",
    "- `messages` — количество sms-сообщений,\n",
    "- `mb_used` — израсходованный интернет-трафик в Мб,\n",
    "- `is_ultra` — каким тарифом пользовался в течение месяца («Ультра» — `1`, «Смарт» — `0`)."
   ]
  },
  {
   "cell_type": "markdown",
   "metadata": {},
   "source": [
    "## Выполнение проекта"
   ]
  },
  {
   "cell_type": "markdown",
   "metadata": {},
   "source": [
    "### Изучение общей информации"
   ]
  },
  {
   "cell_type": "markdown",
   "metadata": {},
   "source": [
    "Откройте файл с данными и изучите его. Путь к файлу `/datasets/users_behavior.csv`"
   ]
  },
  {
   "cell_type": "markdown",
   "metadata": {},
   "source": [
    "#### Загрузка библиотек"
   ]
  },
  {
   "cell_type": "code",
   "execution_count": 85,
   "metadata": {},
   "outputs": [],
   "source": [
    "import pandas as pd                                     # импорт библиотеки pandas\n",
    "\n",
    "from sklearn.linear_model import LogisticRegression     # импорт модели LogisticRegression из модуля sklearn.linear_model,\n",
    "                                                        # реализующий алгоритм дерева решений для задач классификации\n",
    "\n",
    "from sklearn.tree import DecisionTreeClassifier         # импорт функции DecisionTreeClassifier из модуля sklearn.tree\n",
    "\n",
    "from sklearn.ensemble import RandomForestClassifier     # импорт функции RandomForestClassifier из модуля sklearn.ensemble\n",
    "\n",
    "from sklearn.model_selection import train_test_split    # импорт функции train_test_split для разделения исходных данных на выборки\n",
    "\n",
    "\n",
    "from joblib import dump                                 # импорт функции dump из библиотеки joblib, предназначенный \n",
    "                                                        # в т.ч. для загрузки результатов полученных вычислений\n",
    "\n",
    "from sklearn.metrics import accuracy_score              # импорт функции accuracy_score для расчёта метрики качества\n",
    "\n",
    "#from sklearn.metrics import mean_squared_error          # импорт функции mean_squared_error \n",
    "                                                        # для расчёта среднеквадратичного отклонения из модуля sklearn.metrics"
   ]
  },
  {
   "cell_type": "markdown",
   "metadata": {},
   "source": [
    "#### Открытие датасета"
   ]
  },
  {
   "cell_type": "code",
   "execution_count": 2,
   "metadata": {},
   "outputs": [
    {
     "data": {
      "text/html": [
       "<div>\n",
       "<style scoped>\n",
       "    .dataframe tbody tr th:only-of-type {\n",
       "        vertical-align: middle;\n",
       "    }\n",
       "\n",
       "    .dataframe tbody tr th {\n",
       "        vertical-align: top;\n",
       "    }\n",
       "\n",
       "    .dataframe thead th {\n",
       "        text-align: right;\n",
       "    }\n",
       "</style>\n",
       "<table border=\"1\" class=\"dataframe\">\n",
       "  <thead>\n",
       "    <tr style=\"text-align: right;\">\n",
       "      <th></th>\n",
       "      <th>calls</th>\n",
       "      <th>minutes</th>\n",
       "      <th>messages</th>\n",
       "      <th>mb_used</th>\n",
       "      <th>is_ultra</th>\n",
       "    </tr>\n",
       "  </thead>\n",
       "  <tbody>\n",
       "    <tr>\n",
       "      <th>0</th>\n",
       "      <td>40.0</td>\n",
       "      <td>311.90</td>\n",
       "      <td>83.0</td>\n",
       "      <td>19915.42</td>\n",
       "      <td>0</td>\n",
       "    </tr>\n",
       "    <tr>\n",
       "      <th>1</th>\n",
       "      <td>85.0</td>\n",
       "      <td>516.75</td>\n",
       "      <td>56.0</td>\n",
       "      <td>22696.96</td>\n",
       "      <td>0</td>\n",
       "    </tr>\n",
       "    <tr>\n",
       "      <th>2</th>\n",
       "      <td>77.0</td>\n",
       "      <td>467.66</td>\n",
       "      <td>86.0</td>\n",
       "      <td>21060.45</td>\n",
       "      <td>0</td>\n",
       "    </tr>\n",
       "    <tr>\n",
       "      <th>3</th>\n",
       "      <td>106.0</td>\n",
       "      <td>745.53</td>\n",
       "      <td>81.0</td>\n",
       "      <td>8437.39</td>\n",
       "      <td>1</td>\n",
       "    </tr>\n",
       "    <tr>\n",
       "      <th>4</th>\n",
       "      <td>66.0</td>\n",
       "      <td>418.74</td>\n",
       "      <td>1.0</td>\n",
       "      <td>14502.75</td>\n",
       "      <td>0</td>\n",
       "    </tr>\n",
       "  </tbody>\n",
       "</table>\n",
       "</div>"
      ],
      "text/plain": [
       "   calls  minutes  messages   mb_used  is_ultra\n",
       "0   40.0   311.90      83.0  19915.42         0\n",
       "1   85.0   516.75      56.0  22696.96         0\n",
       "2   77.0   467.66      86.0  21060.45         0\n",
       "3  106.0   745.53      81.0   8437.39         1\n",
       "4   66.0   418.74       1.0  14502.75         0"
      ]
     },
     "execution_count": 2,
     "metadata": {},
     "output_type": "execute_result"
    }
   ],
   "source": [
    "data = pd.read_csv('/datasets/users_behavior.csv')\n",
    "data.head()"
   ]
  },
  {
   "cell_type": "code",
   "execution_count": 3,
   "metadata": {},
   "outputs": [
    {
     "data": {
      "text/plain": [
       "(3214, 5)"
      ]
     },
     "execution_count": 3,
     "metadata": {},
     "output_type": "execute_result"
    }
   ],
   "source": [
    "data.shape"
   ]
  },
  {
   "cell_type": "markdown",
   "metadata": {},
   "source": [
    "#### Определение целевого параметра\n"
   ]
  },
  {
   "cell_type": "markdown",
   "metadata": {},
   "source": [
    "Перед нами стоит цель выбора подходящего тарифа мобильной связи. Собственно говоря, в рассматриваемом датасете уже есть параметр `is_ultra`. Данный параметр категориальный, ввиду чего принимаем решение, что решаться будет задача классификации."
   ]
  },
  {
   "cell_type": "code",
   "execution_count": 4,
   "metadata": {},
   "outputs": [],
   "source": [
    "features = data.drop('is_ultra', axis=1)       # объявление переменной признаков\n",
    "target = data['is_ultra']                      # объявление целевого признака"
   ]
  },
  {
   "cell_type": "markdown",
   "metadata": {},
   "source": [
    "### Разделение исходных данных на выборки"
   ]
  },
  {
   "cell_type": "markdown",
   "metadata": {},
   "source": [
    "В нашем распоряжении находится датасет, из которого необходимо сделать разделение на три выборки: обучающую (тренировочную), валидационную (на ней будет проверяться качество обученной модели) и тестовую. Подобная постановка задачи чётко указывает на отсутствие даже намёка на существование тестовой выборки. Размеры тестового и валидационного наборов обычно равны. Исходные данные разбивают в соотношении 3:1:1. \n",
    "\n",
    "Вначале разбиваем данные на обучающую (в названии фигурирует `_train`) и валидационно-тестовую (в названии `_validtest`) выборки в соотношении 3:2 (60% необходимо отвести под обучение модели), а затем уже делим валидационно-тестовую выборку на валидационную (`_valid`) и тестовую (`_test`) выборки в соотношении 1:1. "
   ]
  },
  {
   "cell_type": "code",
   "execution_count": 5,
   "metadata": {},
   "outputs": [],
   "source": [
    "features_train, features_validtest, target_train, target_validtest = train_test_split(\n",
    "    features,\n",
    "    target,\n",
    "    test_size=0.4, \n",
    "    random_state=12345\n",
    ")"
   ]
  },
  {
   "cell_type": "code",
   "execution_count": 6,
   "metadata": {},
   "outputs": [],
   "source": [
    "features_valid, features_test, target_valid, target_test = train_test_split(\n",
    "    features_validtest, \n",
    "    target_validtest, \n",
    "    test_size=0.5, \n",
    "    random_state=12345\n",
    ")"
   ]
  },
  {
   "cell_type": "markdown",
   "metadata": {},
   "source": [
    "Выше подсчитано `data.shape`. Если просуммировать значения строк получившихся выборок, то видно, что ничего не потеряно. И действительно исходные данные разделены в заложенных пропорциях."
   ]
  },
  {
   "cell_type": "code",
   "execution_count": 7,
   "metadata": {},
   "outputs": [
    {
     "data": {
      "text/plain": [
       "(1928, 4)"
      ]
     },
     "execution_count": 7,
     "metadata": {},
     "output_type": "execute_result"
    }
   ],
   "source": [
    "features_train.shape"
   ]
  },
  {
   "cell_type": "code",
   "execution_count": 8,
   "metadata": {},
   "outputs": [
    {
     "data": {
      "text/plain": [
       "(643, 4)"
      ]
     },
     "execution_count": 8,
     "metadata": {},
     "output_type": "execute_result"
    }
   ],
   "source": [
    "features_valid.shape"
   ]
  },
  {
   "cell_type": "code",
   "execution_count": 9,
   "metadata": {},
   "outputs": [
    {
     "data": {
      "text/plain": [
       "(643, 4)"
      ]
     },
     "execution_count": 9,
     "metadata": {},
     "output_type": "execute_result"
    }
   ],
   "source": [
    "features_test.shape"
   ]
  },
  {
   "cell_type": "markdown",
   "metadata": {},
   "source": [
    "### Исследование модели\n",
    "\n",
    "Рассмотрим три известные нам модели обучения для решения задачи классификации. _Логистическая регрессия_ подходит для задач с двумя классами, когда данные линейно разделимы. Модель _дерева решений_ подходит для задач, в которых признаки имеют нелинейную зависимость и когда нужно интерпретировать результаты. _Случайный лес_ подходит для задач с большим количеством признаков и когда нужно уменьшить переобучение.\n",
    "\n",
    "Самое высокое качество accurancy среди представленных моделей у _случайного леса_, а _логистическая регрессия_ на втором месте. При этом _случайный лес_ является самой медленной моделью, что логично, если учесть, для каких целей он используется. Также крайне важно, что модель _случайного леса_ избыточна для нашего датасета. Конечно можно и на БелАЗе пассажиров возить, только зачем, если есть легковые авто.\n",
    "\n",
    "В нашем случае в обучающей выборке присутствуют всего 4 признака. Для достижения поставленной цели - выбора подходящего тарифа мобильной связи - оптимальнее выбрать модель _логистической регрессии_, т.к. у нас всего два класса (0 и 1) и данные линейно разделимы. Кроме того, _логистическая регрессия_ хорошо работает с небольшим количеством признаков, что соответствует нашему датасету, в отличие от модели _случайного леса_. Также _логистическая регрессия_ позволит нам интерпретировать результаты и понять, какие признаки больше всего влияют на целевой признак `is_ultra`. Несмотря на перечисленные факторы, в рамках проекта также будет опробована модель _дерева решений_ в силу своей применимости для небольших выборок. Одним из факторов, которые не позволяют нам обратиться к модели _дерева решений_ обратиться в первую очередь, является возможность наличия проблемы пере/недообучения. Посмотрим, как в итоге сложится."
   ]
  },
  {
   "cell_type": "markdown",
   "metadata": {},
   "source": [
    "#### Исследование модели логистической регрессии\n",
    "\n",
    "Выполним обучение модели на тренировочной выборке и посчитаем `accurancy`, используя гиперпараметры по-умолчанию"
   ]
  },
  {
   "cell_type": "code",
   "execution_count": 10,
   "metadata": {
    "scrolled": true
   },
   "outputs": [
    {
     "name": "stdout",
     "output_type": "stream",
     "text": [
      "Величина метрики качества accurancy на валидационной выборке 0.7131742738589212\n",
      "Величина метрики качества accurancy на валидационной выборке 0.7107309486780715\n"
     ]
    }
   ],
   "source": [
    "# создание объекта модели логистической регрессии без явного указания заданных гиперпараметров\n",
    "model_logreg = LogisticRegression()\n",
    "\n",
    "# обучение модели \n",
    "model_logreg.fit(features_train, target_train)\n",
    "\n",
    "# определение метрики качества accuracy на тренировочной выборке в случае логистической регрессии\n",
    "result_train_logreg = model_logreg.score(features_train, target_train)\n",
    "\n",
    "print(f'Величина метрики качества accurancy на валидационной выборке {result_train_logreg}')\n",
    "\n",
    "# предсказания на валидационной выборке\n",
    "# predictions_valid = model_logreg.predict(features_valid)\n",
    "\n",
    "# определение метрики качества accuracy на валидационной выборке в случае логистической регрессии\n",
    "result_valid_logreg = model_logreg.score(features_valid, target_valid)\n",
    "\n",
    "print(f'Величина метрики качества accurancy на валидационной выборке {result_valid_logreg}')"
   ]
  },
  {
   "cell_type": "markdown",
   "metadata": {},
   "source": [
    "Как видно, результат ни в одном из случаев (главным образом, на обучающей выборке) не достиг необходимой величины в 75% правильных ответов. Используем изменение значений гиперпараметров."
   ]
  },
  {
   "cell_type": "markdown",
   "metadata": {},
   "source": [
    "##### Использование трёх значений гиперпараметров\n",
    "\n",
    "Исходя из [официальной документации](https://scikit-learn.org/stable/modules/generated/sklearn.linear_model.LogisticRegression.html) на библиотеку `scikit-learn`, для модели _LogisticRegression_ существует ряд параметров, из которых наиболее важными являются следующие:\n",
    "\n",
    "- `random_state` - начальное значение для генератора случайных чисел\n",
    "- `solver` - алгоритм оптимизации (newton-cg, lbfgs, liblinear, sag или saga)\n",
    "- `max_iter` - максимальное количество итераций для оптимизации\n",
    "- `penalty` - тип регуляризации (l1, l2, elasticnet или none)\n",
    "- `C` - обратная сила регуляризации (чем больше значение C, тем меньше регуляризация)\n",
    "- `tol` - критерий остановки оптимизации\n",
    "- `class_weight` - веса классов для учета дисбаланса классов\n",
    "\n",
    "Из данного перечня применим параметры `random_state`, `solver` и `max_iter`"
   ]
  },
  {
   "cell_type": "code",
   "execution_count": 11,
   "metadata": {},
   "outputs": [
    {
     "name": "stdout",
     "output_type": "stream",
     "text": [
      "Величина метрики качества accurancy при значении гиперпараметра solver=liblinear на валидационной выборке равна: 0.7157676348547718\n",
      "Величина метрики качества accurancy при значении гиперпараметра solver=lbfgs на валидационной выборке равна: 0.7131742738589212\n",
      "Величина метрики качества accurancy при значении гиперпараметра solver=newton-cg на валидационной выборке равна: 0.7531120331950207\n"
     ]
    },
    {
     "name": "stderr",
     "output_type": "stream",
     "text": [
      "/opt/conda/lib/python3.9/site-packages/scipy/optimize/_linesearch.py:456: LineSearchWarning: The line search algorithm did not converge\n",
      "  warn('The line search algorithm did not converge', LineSearchWarning)\n",
      "/opt/conda/lib/python3.9/site-packages/scipy/optimize/_linesearch.py:305: LineSearchWarning: The line search algorithm did not converge\n",
      "  warn('The line search algorithm did not converge', LineSearchWarning)\n",
      "/opt/conda/lib/python3.9/site-packages/scipy/optimize/_linesearch.py:456: LineSearchWarning: The line search algorithm did not converge\n",
      "  warn('The line search algorithm did not converge', LineSearchWarning)\n",
      "/opt/conda/lib/python3.9/site-packages/scipy/optimize/_linesearch.py:305: LineSearchWarning: The line search algorithm did not converge\n",
      "  warn('The line search algorithm did not converge', LineSearchWarning)\n",
      "/opt/conda/lib/python3.9/site-packages/scipy/optimize/_linesearch.py:456: LineSearchWarning: The line search algorithm did not converge\n",
      "  warn('The line search algorithm did not converge', LineSearchWarning)\n",
      "/opt/conda/lib/python3.9/site-packages/scipy/optimize/_linesearch.py:305: LineSearchWarning: The line search algorithm did not converge\n",
      "  warn('The line search algorithm did not converge', LineSearchWarning)\n",
      "/opt/conda/lib/python3.9/site-packages/scipy/optimize/_linesearch.py:305: LineSearchWarning: The line search algorithm did not converge\n",
      "  warn('The line search algorithm did not converge', LineSearchWarning)\n",
      "/opt/conda/lib/python3.9/site-packages/sklearn/utils/optimize.py:195: UserWarning: Line Search failed\n",
      "  warnings.warn('Line Search failed')\n"
     ]
    },
    {
     "name": "stdout",
     "output_type": "stream",
     "text": [
      "Величина метрики качества accurancy при значении гиперпараметра solver=sag на валидационной выборке равна: 0.7105809128630706\n",
      "Величина метрики качества accurancy при значении гиперпараметра solver=saga на валидационной выборке равна: 0.7085062240663901\n"
     ]
    }
   ],
   "source": [
    "for solver_type in ['liblinear', 'lbfgs', 'newton-cg', 'sag', 'saga']:\n",
    "    try:\n",
    "        model_logreg = LogisticRegression(random_state=12345, solver=solver_type, max_iter=100000)\n",
    "        model_logreg.fit(features_train, target_train)\n",
    "        result_train_logreg = model_logreg.score(features_train, target_train)\n",
    "        print(f'Величина метрики качества accurancy при значении гиперпараметра solver={solver_type} на валидационной выборке равна: {result_train_logreg}') \n",
    "    except ValueError:\n",
    "        print(f'Алгоритм линейного поиска не смог найти оптимальное значение параметра accurancy для solver={solver_type}') "
   ]
  },
  {
   "cell_type": "markdown",
   "metadata": {},
   "source": [
    "Обращает на себя внимание, что при использовании алгоритма оптимизации `newton-sg` удаётся достигнуть необходимого значения правильных ответов обучающейся модели. Ввиду этого добавим гиперпараметры `tol` и `penalty`, подобрав для них подходящие значения"
   ]
  },
  {
   "cell_type": "code",
   "execution_count": 12,
   "metadata": {},
   "outputs": [
    {
     "name": "stdout",
     "output_type": "stream",
     "text": [
      "Величина метрики качества accurancy на валидационной выборке равна: 0.7531120331950207\n"
     ]
    }
   ],
   "source": [
    "model_logreg = LogisticRegression(random_state=12345, solver='newton-cg', max_iter=100000, tol=0.001, penalty='none')\n",
    "model_logreg.fit(features_train, target_train)\n",
    "result_train_logreg = model_logreg.score(features_train, target_train)\n",
    "print(f'Величина метрики качества accurancy на валидационной выборке равна: {result_train_logreg}') "
   ]
  },
  {
   "cell_type": "markdown",
   "metadata": {},
   "source": [
    "На обучающейся выборке достигнуто требуемое значение. Подсчитаем его для валидационной выборки. Как видно, значения близки"
   ]
  },
  {
   "cell_type": "code",
   "execution_count": 13,
   "metadata": {},
   "outputs": [
    {
     "name": "stdout",
     "output_type": "stream",
     "text": [
      "Величина метрики качества accurancy на валидационной выборке 0.7558320373250389\n"
     ]
    },
    {
     "data": {
      "text/plain": [
       "['model_9_1.joblib']"
      ]
     },
     "execution_count": 13,
     "metadata": {},
     "output_type": "execute_result"
    }
   ],
   "source": [
    "result_valid_logreg = model_logreg.score(features_valid, target_valid)\n",
    "print(f'Величина метрики качества accurancy на валидационной выборке {result_valid_logreg}')\n",
    "\n",
    "dump(model_logreg, 'model_9_1.joblib')"
   ]
  },
  {
   "cell_type": "markdown",
   "metadata": {},
   "source": [
    "##### Выводы по результатам исследования"
   ]
  },
  {
   "cell_type": "markdown",
   "metadata": {},
   "source": [
    "Несмотря на то, что наиболее распространённым является алгоритм `lbfgs` гиперпараметра `solver`, для нашей модели наилучший результат обучения дало применение алгоритма `newton-cg`. Они оба относятся к оптимизационным алгоритмам, которые используются для обучения моделей ML, а отличаются способом вычисления градиента и гессиана функции потерь.\n",
    "\n",
    "Алгоритм lbfgs (Limited-memory Broyden-Fletcher-Goldfarb-Shanno) использует ограниченную память для хранения предыдущих значений градиента и использует их для приближенного вычисления гессиана. Он является быстрее и менее требовательным к памяти, чем алгоритм newton-cg, но может иметь проблемы с сходимостью на некоторых задачах. Алгоритм newton-cg (Newton's conjugate gradient) использует точное вычисление градиента и гессиана функции потерь, что делает его более точным, но также более медленным и требовательным к памяти. Однако на нашем довольно небольшой выборке (даже изначальный датасет составлял всего 3214 объекта) различия в скоростях вычислений для указанных алгоритмов практически не заметны.\n",
    "\n",
    "Ввиду того, что алгоритм `newton-cg` показал удовлетворяющие условию результаты в обучаемой модели, то есть смысл его использовать далее. Однако, стоит учитывать, что помимо выбора оптимизационного алгоритма потребовалась также дополнительная настройка гиперпараметров, таких как `tol` и `penalty`."
   ]
  },
  {
   "cell_type": "markdown",
   "metadata": {},
   "source": [
    "#### Проверка модели на тестовой выборке"
   ]
  },
  {
   "cell_type": "code",
   "execution_count": 14,
   "metadata": {},
   "outputs": [],
   "source": [
    "predictions_train_logreg = model_logreg.predict(features_train)\n",
    "predictions_valid_logreg = model_logreg.predict(features_valid)\n",
    "predictions_test_logreg = model_logreg.predict(features_test)"
   ]
  },
  {
   "cell_type": "code",
   "execution_count": 15,
   "metadata": {},
   "outputs": [
    {
     "name": "stdout",
     "output_type": "stream",
     "text": [
      "Значения Accurancy на различных выборках:\n",
      "Значения Accurancy на обучающейся выборке равно 0.7531120331950207\n",
      "Значения Accurancy на валидационной выборке равно 0.7558320373250389\n",
      "Значения Accurancy на тестовой выборке равно 0.7387247278382582\n"
     ]
    }
   ],
   "source": [
    "print('Значения Accurancy на различных выборках:')\n",
    "print(\"Значения Accurancy на обучающейся выборке равно\", model_logreg.score(features_train, target_train))\n",
    "print(\"Значения Accurancy на валидационной выборке равно\", model_logreg.score(features_valid, target_valid))\n",
    "print(\"Значения Accurancy на тестовой выборке равно\", model_logreg.score(features_test, target_test))"
   ]
  },
  {
   "cell_type": "markdown",
   "metadata": {},
   "source": [
    "Модель логистической регрессии показывает примерно одинаковую точность на обучающей, валидационной и тестовой выборках, что может говорить о ее стабильности и непереобученности. Однако, точность модели на всех выборках не очень высока и составляет около 0.75. Необходимо провести дополнительный анализ и оптимизацию модели для улучшения ее качества.\n",
    "\n",
    "Для улучшения качества модели логистической регрессии можно попробовать следующие методы:\n",
    "\n",
    "1. Подбор гиперпараметров: можно использовать методы перебора гиперпараметров, например, [GridSearchCV](https://vc.ru/ml/147132-kak-avtomaticheski-podobrat-parametry-dlya-modeli-mashinnogo-obucheniya-ispolzuem-gridsearchcv) или RandomizedSearchCV, чтобы определить оптимальные значения гиперпараметров модели. Например, можно изменять значения параметров C, tol, max_iter, penalty и solver.\n",
    "\n",
    "2. Использование других моделей: если точность модели логистической регрессии не удовлетворяет требованиям, можно попробовать использовать другие модели машинного обучения, такие как `случайный лес` или `дерево решений`.\n",
    "\n",
    "3. Балансировка классов: если классы в целевой переменной несбалансированы, то можно использовать методы балансировки классов, такие как oversampling или undersampling, чтобы улучшить качество модели (это было нагуглено, но пока подобное реализовать не готов)."
   ]
  },
  {
   "cell_type": "markdown",
   "metadata": {},
   "source": [
    "#### Перебор гиперпараметров GridSearchCV\n",
    "\n",
    "Перебор гиперпараметров **GridSearchCV** приводит к ряду сообщений и крайне длительной работе. Ввиду чего тут представлены количественные гиперпараметры, которые в итоге были безошибочно проанализированы и на их основе сформирован наиболее оптимальный перечень."
   ]
  },
  {
   "cell_type": "code",
   "execution_count": 16,
   "metadata": {},
   "outputs": [
    {
     "data": {
      "text/plain": [
       "{'C': 0.001, 'max_iter': 1000, 'random_state': None, 'tol': 0.001}"
      ]
     },
     "execution_count": 16,
     "metadata": {},
     "output_type": "execute_result"
    }
   ],
   "source": [
    "from sklearn.model_selection import GridSearchCV\n",
    "clf = LogisticRegression()\n",
    "\n",
    "parametrs = { \n",
    "    'random_state': [None, 12345, 777, 54321],\n",
    "    'max_iter': [1000, 10000, 100000, 1000000],\n",
    "    'C': [0.001, 0.01, 0.1, 1, 10, 100],\n",
    "    'tol': [0.001, 0.01, 0.1, 1, 10, 100]\n",
    "            }\n",
    "grid = GridSearchCV(clf, parametrs, cv=5)\n",
    "grid.fit(features_train, target_train)\n",
    "grid.best_params_"
   ]
  },
  {
   "cell_type": "markdown",
   "metadata": {},
   "source": [
    "На основе переборе сформированы следующие оптимальные значения гиперпараметров:\n",
    "\n",
    "    - 'C': 0.001, \n",
    "    - 'max_iter': 1000, \n",
    "    - 'random_state': None, \n",
    "    - 'tol': 0.001\n",
    "    \n",
    "Используем их на обучающей выборке вместе с гиперпараметрами `solver` и `penalty`, показавшими наилучший результат."
   ]
  },
  {
   "cell_type": "code",
   "execution_count": 17,
   "metadata": {},
   "outputs": [
    {
     "name": "stdout",
     "output_type": "stream",
     "text": [
      "Величина метрики качества accurancy на валидационной выборке равна: 0.7142116182572614\n"
     ]
    }
   ],
   "source": [
    "model_logreg = LogisticRegression(random_state=None, C=0.001, solver='lbfgs',max_iter=1000, tol=0.001)\n",
    "model_logreg.fit(features_train, target_train)\n",
    "result_train_logreg = model_logreg.score(features_train, target_train)\n",
    "print(f'Величина метрики качества accurancy на валидационной выборке равна: {result_train_logreg}') "
   ]
  },
  {
   "cell_type": "code",
   "execution_count": 18,
   "metadata": {},
   "outputs": [
    {
     "name": "stdout",
     "output_type": "stream",
     "text": [
      "Величина метрики качества accurancy на валидационной выборке равна: 0.7531120331950207\n"
     ]
    },
    {
     "name": "stderr",
     "output_type": "stream",
     "text": [
      "/opt/conda/lib/python3.9/site-packages/sklearn/linear_model/_logistic.py:1322: UserWarning: Setting penalty='none' will ignore the C and l1_ratio parameters\n",
      "  warnings.warn(\n"
     ]
    }
   ],
   "source": [
    "model_logreg = LogisticRegression(random_state=None, C=0.001, solver='newton-cg', penalty='none', max_iter=1000, tol=0.001)\n",
    "model_logreg.fit(features_train, target_train)\n",
    "result_train_logreg = model_logreg.score(features_train, target_train)\n",
    "print(f'Величина метрики качества accurancy на валидационной выборке равна: {result_train_logreg}') "
   ]
  },
  {
   "cell_type": "markdown",
   "metadata": {},
   "source": [
    "Увы, также и тут результат получается подобный. Значение качества модели при использовании перебора `GridSearchCV` на требуемую величину в 0.75 влияет слабо."
   ]
  },
  {
   "cell_type": "markdown",
   "metadata": {},
   "source": [
    "### Сравнения с другими моделями классификации\n",
    "\n",
    "Ввиду \"натянутого\" результата работы модели `логистической регрессии` само собой напрашивается применение иных моделей по оговорённому выше плану."
   ]
  },
  {
   "cell_type": "markdown",
   "metadata": {},
   "source": [
    "#### Исследование модели классификации деревом решений\n"
   ]
  },
  {
   "cell_type": "code",
   "execution_count": 91,
   "metadata": {},
   "outputs": [],
   "source": [
    "# создание объекта модели классификации деревом решений\n",
    "model_tree_cl = DecisionTreeClassifier(random_state=12345)\n",
    "\n",
    "# обучение модели \n",
    "model_tree_cl.fit(features_train, target_train)\n",
    "\n",
    "# предсказания значения целевой переменной для обучающей выборки\n",
    "train_predictions = model_tree_cl.predict(features_train)\n",
    "\n",
    "# предсказания значения целевой переменной для валидационной выборки\n",
    "valid_predictions = model_tree_cl.predict(features_valid)\n",
    "\n",
    "# предсказания значения целевой переменной для тестовой выборки\n",
    "test_predictions = model_tree_cl.predict(features_test)"
   ]
  },
  {
   "cell_type": "code",
   "execution_count": 92,
   "metadata": {
    "scrolled": true
   },
   "outputs": [
    {
     "name": "stdout",
     "output_type": "stream",
     "text": [
      "Величина метрики качества accurancy на обучающей выборке равна: 1.0\n",
      "Величина метрики качества accurancy на валидационной выборке равна: 0.713841368584759\n",
      "Величина метрики качества accurancy на тестовой выборке равна: 0.7309486780715396\n"
     ]
    }
   ],
   "source": [
    "print('Величина метрики качества accurancy на обучающей выборке равна:', accuracy_score(target_train, train_predictions))\n",
    "print('Величина метрики качества accurancy на валидационной выборке равна:', accuracy_score(target_valid, valid_predictions))\n",
    "print('Величина метрики качества accurancy на тестовой выборке равна:', accuracy_score(target_test, test_predictions))"
   ]
  },
  {
   "cell_type": "markdown",
   "metadata": {},
   "source": [
    "Если принять, как данность значение `accurancy`, равно 1, что подразумевает отсутствие ошибок при обучении модели\n",
    "Налицо случай переобучения. Ввиду того, что переобучение характерно для моделей с большой величиной глубины дерева, необходимо провести изменить соответствующие гиперпараметры. Рассматриваемые гиперпараметры можно вывести командой `model_tree_cl.get_params()`, а их описание взять из [официальной документации](https://scikit-learn.org/stable/modules/generated/sklearn.tree.DecisionTreeClassifier.html#sklearn.tree.DecisionTreeClassifier):\n",
    "\n",
    "- `criterion` - функция для измерения качества разбиения\n",
    "- `splitter` - стратегия выбора разбиения в каждом узле\n",
    "- `max_depth` - максимальная глубина дерева\n",
    "\n",
    "- `min_samples_split=2` - минимальное количество экземпляров, которое может содержаться в узле для дальнейшего разбиения\n",
    "- `min_samples_leaf=1` - минимальное количество экземпляров, которое может содержаться в листе\n",
    "- `min_weight_fraction_leaf=0.0` - минимальная взвешенная часть суммы всех весов входных экземпляров, необходимых в листовом узле\n",
    "- `max_features` - максимальное количество фичей, которые рассматриваются при выборе лучшего разбиения\n",
    "- `random_state` - начальное состояние генератора случайных чисел\n",
    "- `max_leaf_nodes` - максимальное количество листьев\n",
    "- `min_impurity_decrease` - минимальное уменьшение неоднородности\n",
    "- `class_weight` - вес класса в виде\n",
    "- `ccp_alpha` - сложность стоимости\n",
    "\n",
    "Оптимальные значения гиперпараметров для подбора можно взять из [документации Kaggle](https://www.kaggle.com/code/zohrab/rus-sklearn-decisiontreeclassifier-hyperparams), поскольку в ней расписано достаточно ясно. Используем первые три."
   ]
  },
  {
   "cell_type": "markdown",
   "metadata": {},
   "source": [
    "Посчитаем значение `accurancy` при заданных трёх значениях гиперпараметров. Сравним предсказанное в ходе обучения на тренировочной выборке значение доли правильных ответов и отношение числа правильных ответов к тестовой выборке. Сведём всё в одну таблицу, поскольку значений у нас всего должно получиться 28, а таблица более проста в чтении для такого числа строк."
   ]
  },
  {
   "cell_type": "code",
   "execution_count": 83,
   "metadata": {},
   "outputs": [],
   "source": [
    "result_train_tree_cl = pd.DataFrame(columns=['Качество разбиения выборки criterion', 'Стратегия выбора разбиения выборки splitter', 'Глубина дерева обучения max_depth', 'Величина метрики качества accurancy на обучающей выборке', 'Величина метрики качества accurancy на тестовой выборке'])\n",
    "\n",
    "criterion_types = ['gini', 'entropy']\n",
    "splitter_types = ['best', 'random']\n",
    "\n",
    "for criterion_type in criterion_types:\n",
    "    for depth in range(1,8):\n",
    "        for splitter_type in splitter_types:\n",
    "            try:\n",
    "                model_tree_cl = DecisionTreeClassifier(random_state=12345, criterion=criterion_type, splitter=splitter_type, max_depth=depth)\n",
    "                model_tree_cl.fit(features_train, target_train)\n",
    "                train_predictions = model_tree_cl.predict(features_train)\n",
    "                accurancy_train_tree_cl = accuracy_score(target_train, train_predictions)\n",
    "                test_predictions = model_tree_cl.predict(features_test)\n",
    "                accurancy_test_tree_cl = accuracy_score(target_test, test_predictions)\n",
    "                result_train_tree_cl = result_train_tree_cl.append({'Величина метрики качества accurancy на обучающей выборке': accurancy_train_tree_cl,\n",
    "                                                                    'Величина метрики качества accurancy на тестовой выборке': accurancy_test_tree_cl,\n",
    "                                                                    'Качество разбиения выборки criterion': criterion_type, \n",
    "                                                                    'Стратегия выбора разбиения выборки splitter': splitter_type, \n",
    "                                                                    'Глубина дерева обучения max_depth': depth}, ignore_index=True\n",
    "                                                                  )\n",
    "            except:\n",
    "                print(f'Алгоритм дерева решений не смог найти оптимальное значение параметра accurancy') "
   ]
  },
  {
   "cell_type": "code",
   "execution_count": 84,
   "metadata": {
    "scrolled": false
   },
   "outputs": [
    {
     "data": {
      "text/html": [
       "<div>\n",
       "<style scoped>\n",
       "    .dataframe tbody tr th:only-of-type {\n",
       "        vertical-align: middle;\n",
       "    }\n",
       "\n",
       "    .dataframe tbody tr th {\n",
       "        vertical-align: top;\n",
       "    }\n",
       "\n",
       "    .dataframe thead th {\n",
       "        text-align: right;\n",
       "    }\n",
       "</style>\n",
       "<table border=\"1\" class=\"dataframe\">\n",
       "  <thead>\n",
       "    <tr style=\"text-align: right;\">\n",
       "      <th></th>\n",
       "      <th>Качество разбиения выборки criterion</th>\n",
       "      <th>Стратегия выбора разбиения выборки splitter</th>\n",
       "      <th>Глубина дерева обучения max_depth</th>\n",
       "      <th>Величина метрики качества accurancy на обучающей выборке</th>\n",
       "      <th>Величина метрики качества accurancy на тестовой выборке</th>\n",
       "    </tr>\n",
       "  </thead>\n",
       "  <tbody>\n",
       "    <tr>\n",
       "      <th>12</th>\n",
       "      <td>gini</td>\n",
       "      <td>best</td>\n",
       "      <td>7</td>\n",
       "      <td>0.855809</td>\n",
       "      <td>0.799378</td>\n",
       "    </tr>\n",
       "    <tr>\n",
       "      <th>26</th>\n",
       "      <td>entropy</td>\n",
       "      <td>best</td>\n",
       "      <td>7</td>\n",
       "      <td>0.848029</td>\n",
       "      <td>0.796267</td>\n",
       "    </tr>\n",
       "    <tr>\n",
       "      <th>10</th>\n",
       "      <td>gini</td>\n",
       "      <td>best</td>\n",
       "      <td>6</td>\n",
       "      <td>0.837656</td>\n",
       "      <td>0.776050</td>\n",
       "    </tr>\n",
       "    <tr>\n",
       "      <th>24</th>\n",
       "      <td>entropy</td>\n",
       "      <td>best</td>\n",
       "      <td>6</td>\n",
       "      <td>0.833506</td>\n",
       "      <td>0.780715</td>\n",
       "    </tr>\n",
       "    <tr>\n",
       "      <th>8</th>\n",
       "      <td>gini</td>\n",
       "      <td>best</td>\n",
       "      <td>5</td>\n",
       "      <td>0.820021</td>\n",
       "      <td>0.783826</td>\n",
       "    </tr>\n",
       "    <tr>\n",
       "      <th>22</th>\n",
       "      <td>entropy</td>\n",
       "      <td>best</td>\n",
       "      <td>5</td>\n",
       "      <td>0.817427</td>\n",
       "      <td>0.785381</td>\n",
       "    </tr>\n",
       "    <tr>\n",
       "      <th>6</th>\n",
       "      <td>gini</td>\n",
       "      <td>best</td>\n",
       "      <td>4</td>\n",
       "      <td>0.810685</td>\n",
       "      <td>0.774495</td>\n",
       "    </tr>\n",
       "    <tr>\n",
       "      <th>20</th>\n",
       "      <td>entropy</td>\n",
       "      <td>best</td>\n",
       "      <td>4</td>\n",
       "      <td>0.808091</td>\n",
       "      <td>0.777605</td>\n",
       "    </tr>\n",
       "    <tr>\n",
       "      <th>4</th>\n",
       "      <td>gini</td>\n",
       "      <td>best</td>\n",
       "      <td>3</td>\n",
       "      <td>0.807573</td>\n",
       "      <td>0.779160</td>\n",
       "    </tr>\n",
       "    <tr>\n",
       "      <th>18</th>\n",
       "      <td>entropy</td>\n",
       "      <td>best</td>\n",
       "      <td>3</td>\n",
       "      <td>0.807573</td>\n",
       "      <td>0.779160</td>\n",
       "    </tr>\n",
       "    <tr>\n",
       "      <th>27</th>\n",
       "      <td>entropy</td>\n",
       "      <td>random</td>\n",
       "      <td>7</td>\n",
       "      <td>0.800830</td>\n",
       "      <td>0.790047</td>\n",
       "    </tr>\n",
       "    <tr>\n",
       "      <th>13</th>\n",
       "      <td>gini</td>\n",
       "      <td>random</td>\n",
       "      <td>7</td>\n",
       "      <td>0.789419</td>\n",
       "      <td>0.776050</td>\n",
       "    </tr>\n",
       "    <tr>\n",
       "      <th>2</th>\n",
       "      <td>gini</td>\n",
       "      <td>best</td>\n",
       "      <td>2</td>\n",
       "      <td>0.787863</td>\n",
       "      <td>0.774495</td>\n",
       "    </tr>\n",
       "    <tr>\n",
       "      <th>16</th>\n",
       "      <td>entropy</td>\n",
       "      <td>best</td>\n",
       "      <td>2</td>\n",
       "      <td>0.787863</td>\n",
       "      <td>0.774495</td>\n",
       "    </tr>\n",
       "    <tr>\n",
       "      <th>23</th>\n",
       "      <td>entropy</td>\n",
       "      <td>random</td>\n",
       "      <td>5</td>\n",
       "      <td>0.783714</td>\n",
       "      <td>0.774495</td>\n",
       "    </tr>\n",
       "    <tr>\n",
       "      <th>9</th>\n",
       "      <td>gini</td>\n",
       "      <td>random</td>\n",
       "      <td>5</td>\n",
       "      <td>0.783714</td>\n",
       "      <td>0.774495</td>\n",
       "    </tr>\n",
       "    <tr>\n",
       "      <th>11</th>\n",
       "      <td>gini</td>\n",
       "      <td>random</td>\n",
       "      <td>6</td>\n",
       "      <td>0.771266</td>\n",
       "      <td>0.768274</td>\n",
       "    </tr>\n",
       "    <tr>\n",
       "      <th>25</th>\n",
       "      <td>entropy</td>\n",
       "      <td>random</td>\n",
       "      <td>6</td>\n",
       "      <td>0.771266</td>\n",
       "      <td>0.768274</td>\n",
       "    </tr>\n",
       "    <tr>\n",
       "      <th>0</th>\n",
       "      <td>gini</td>\n",
       "      <td>best</td>\n",
       "      <td>1</td>\n",
       "      <td>0.757780</td>\n",
       "      <td>0.735614</td>\n",
       "    </tr>\n",
       "    <tr>\n",
       "      <th>14</th>\n",
       "      <td>entropy</td>\n",
       "      <td>best</td>\n",
       "      <td>1</td>\n",
       "      <td>0.757780</td>\n",
       "      <td>0.735614</td>\n",
       "    </tr>\n",
       "    <tr>\n",
       "      <th>21</th>\n",
       "      <td>entropy</td>\n",
       "      <td>random</td>\n",
       "      <td>4</td>\n",
       "      <td>0.757261</td>\n",
       "      <td>0.755832</td>\n",
       "    </tr>\n",
       "    <tr>\n",
       "      <th>7</th>\n",
       "      <td>gini</td>\n",
       "      <td>random</td>\n",
       "      <td>4</td>\n",
       "      <td>0.757261</td>\n",
       "      <td>0.755832</td>\n",
       "    </tr>\n",
       "    <tr>\n",
       "      <th>19</th>\n",
       "      <td>entropy</td>\n",
       "      <td>random</td>\n",
       "      <td>3</td>\n",
       "      <td>0.737033</td>\n",
       "      <td>0.724728</td>\n",
       "    </tr>\n",
       "    <tr>\n",
       "      <th>5</th>\n",
       "      <td>gini</td>\n",
       "      <td>random</td>\n",
       "      <td>3</td>\n",
       "      <td>0.737033</td>\n",
       "      <td>0.724728</td>\n",
       "    </tr>\n",
       "    <tr>\n",
       "      <th>17</th>\n",
       "      <td>entropy</td>\n",
       "      <td>random</td>\n",
       "      <td>2</td>\n",
       "      <td>0.709025</td>\n",
       "      <td>0.709176</td>\n",
       "    </tr>\n",
       "    <tr>\n",
       "      <th>15</th>\n",
       "      <td>entropy</td>\n",
       "      <td>random</td>\n",
       "      <td>1</td>\n",
       "      <td>0.709025</td>\n",
       "      <td>0.709176</td>\n",
       "    </tr>\n",
       "    <tr>\n",
       "      <th>1</th>\n",
       "      <td>gini</td>\n",
       "      <td>random</td>\n",
       "      <td>1</td>\n",
       "      <td>0.709025</td>\n",
       "      <td>0.709176</td>\n",
       "    </tr>\n",
       "    <tr>\n",
       "      <th>3</th>\n",
       "      <td>gini</td>\n",
       "      <td>random</td>\n",
       "      <td>2</td>\n",
       "      <td>0.709025</td>\n",
       "      <td>0.709176</td>\n",
       "    </tr>\n",
       "  </tbody>\n",
       "</table>\n",
       "</div>"
      ],
      "text/plain": [
       "   Качество разбиения выборки criterion  \\\n",
       "12                                 gini   \n",
       "26                              entropy   \n",
       "10                                 gini   \n",
       "24                              entropy   \n",
       "8                                  gini   \n",
       "22                              entropy   \n",
       "6                                  gini   \n",
       "20                              entropy   \n",
       "4                                  gini   \n",
       "18                              entropy   \n",
       "27                              entropy   \n",
       "13                                 gini   \n",
       "2                                  gini   \n",
       "16                              entropy   \n",
       "23                              entropy   \n",
       "9                                  gini   \n",
       "11                                 gini   \n",
       "25                              entropy   \n",
       "0                                  gini   \n",
       "14                              entropy   \n",
       "21                              entropy   \n",
       "7                                  gini   \n",
       "19                              entropy   \n",
       "5                                  gini   \n",
       "17                              entropy   \n",
       "15                              entropy   \n",
       "1                                  gini   \n",
       "3                                  gini   \n",
       "\n",
       "   Стратегия выбора разбиения выборки splitter  \\\n",
       "12                                        best   \n",
       "26                                        best   \n",
       "10                                        best   \n",
       "24                                        best   \n",
       "8                                         best   \n",
       "22                                        best   \n",
       "6                                         best   \n",
       "20                                        best   \n",
       "4                                         best   \n",
       "18                                        best   \n",
       "27                                      random   \n",
       "13                                      random   \n",
       "2                                         best   \n",
       "16                                        best   \n",
       "23                                      random   \n",
       "9                                       random   \n",
       "11                                      random   \n",
       "25                                      random   \n",
       "0                                         best   \n",
       "14                                        best   \n",
       "21                                      random   \n",
       "7                                       random   \n",
       "19                                      random   \n",
       "5                                       random   \n",
       "17                                      random   \n",
       "15                                      random   \n",
       "1                                       random   \n",
       "3                                       random   \n",
       "\n",
       "   Глубина дерева обучения max_depth  \\\n",
       "12                                 7   \n",
       "26                                 7   \n",
       "10                                 6   \n",
       "24                                 6   \n",
       "8                                  5   \n",
       "22                                 5   \n",
       "6                                  4   \n",
       "20                                 4   \n",
       "4                                  3   \n",
       "18                                 3   \n",
       "27                                 7   \n",
       "13                                 7   \n",
       "2                                  2   \n",
       "16                                 2   \n",
       "23                                 5   \n",
       "9                                  5   \n",
       "11                                 6   \n",
       "25                                 6   \n",
       "0                                  1   \n",
       "14                                 1   \n",
       "21                                 4   \n",
       "7                                  4   \n",
       "19                                 3   \n",
       "5                                  3   \n",
       "17                                 2   \n",
       "15                                 1   \n",
       "1                                  1   \n",
       "3                                  2   \n",
       "\n",
       "    Величина метрики качества accurancy на обучающей выборке  \\\n",
       "12                                           0.855809          \n",
       "26                                           0.848029          \n",
       "10                                           0.837656          \n",
       "24                                           0.833506          \n",
       "8                                            0.820021          \n",
       "22                                           0.817427          \n",
       "6                                            0.810685          \n",
       "20                                           0.808091          \n",
       "4                                            0.807573          \n",
       "18                                           0.807573          \n",
       "27                                           0.800830          \n",
       "13                                           0.789419          \n",
       "2                                            0.787863          \n",
       "16                                           0.787863          \n",
       "23                                           0.783714          \n",
       "9                                            0.783714          \n",
       "11                                           0.771266          \n",
       "25                                           0.771266          \n",
       "0                                            0.757780          \n",
       "14                                           0.757780          \n",
       "21                                           0.757261          \n",
       "7                                            0.757261          \n",
       "19                                           0.737033          \n",
       "5                                            0.737033          \n",
       "17                                           0.709025          \n",
       "15                                           0.709025          \n",
       "1                                            0.709025          \n",
       "3                                            0.709025          \n",
       "\n",
       "    Величина метрики качества accurancy на тестовой выборке  \n",
       "12                                           0.799378        \n",
       "26                                           0.796267        \n",
       "10                                           0.776050        \n",
       "24                                           0.780715        \n",
       "8                                            0.783826        \n",
       "22                                           0.785381        \n",
       "6                                            0.774495        \n",
       "20                                           0.777605        \n",
       "4                                            0.779160        \n",
       "18                                           0.779160        \n",
       "27                                           0.790047        \n",
       "13                                           0.776050        \n",
       "2                                            0.774495        \n",
       "16                                           0.774495        \n",
       "23                                           0.774495        \n",
       "9                                            0.774495        \n",
       "11                                           0.768274        \n",
       "25                                           0.768274        \n",
       "0                                            0.735614        \n",
       "14                                           0.735614        \n",
       "21                                           0.755832        \n",
       "7                                            0.755832        \n",
       "19                                           0.724728        \n",
       "5                                            0.724728        \n",
       "17                                           0.709176        \n",
       "15                                           0.709176        \n",
       "1                                            0.709176        \n",
       "3                                            0.709176        "
      ]
     },
     "metadata": {},
     "output_type": "display_data"
    }
   ],
   "source": [
    "display(result_train_tree_cl.sort_values('Величина метрики качества accurancy на обучающей выборке', ascending=False))"
   ]
  },
  {
   "cell_type": "markdown",
   "metadata": {},
   "source": [
    "Мы оказались посрамлены, когда при [принятии решения сделали ставку на модель _логистической регрессии_ в пользу перед моделью _дерева решений_](#Исследование-модели). На деле _дерево решений_ куда как с меньшей ошибкой выдаёт результат. \n",
    "\n",
    "В таблице выше данные отсортированы по величине метрики качества на обучающей выборке. Невооружённым глазом видно, как при увеличении глубины дерева обучения ошибка обучения снижается. Однако `max_depth` далеко не единственный гиперпараметр, вляющий на улучшение метрики качества. \n",
    "\n",
    "Также нам видится важным гиперпараметром `splatter`. Наибольшие значения метрики качества демонстрируются при использовании значения `best` стратегии выбора разбиения выборки. При идентичных значениях `max_depth` метрика качества выше именно у `best`. А вот гиперпараметр качества разбиения выборки показывает примерно одинаковые результаты в системе с двумя другими гиперпараметрами. Т.е. прямой зависимости между значениями `criterion` и числом ошибок обучения выборки не обнаружено.\n",
    "\n",
    "Достичь необходимый результат в 0.75 возможно уже при следующих гиперпараметрах: max_depth=`4` и splitter=`random`. Однако чем выше величина `accurancy` на обучающей выборке, тем заметнее становится видна более высокая точность на обучающей выборке, нежели на выборке тестовой. Т.е. явный случай переобучения (хотя в случае для глубины дерева в единицу и вовсе характерно недообучение). С другой стороны, в зависимости от величины датасета отличие в 5-10% между значениями `accurancy` на разных выборках может быть и допустимым. У нас же стоит чёткая цель - доведение числа верных ответов хотя бы до 0.75. Значит, оперируя текущими результатами, можно сделать вывод о достижении цели при значениях основных гиперпараметров, выделив из них следующие:\n",
    "\n",
    "|max_depth|criterion|splitter|\n",
    "|-|-|-|\n",
    "|4|entropy/gini|random|\n",
    "|6|entropy/gini|random|\n",
    "|5|entropy/gini|random|"
   ]
  },
  {
   "cell_type": "markdown",
   "metadata": {},
   "source": [
    "#### Исследование модели классификации - случайный лес"
   ]
  },
  {
   "cell_type": "markdown",
   "metadata": {},
   "source": [
    "В принципе поставленная цель может считаться достигнутой, но, поскольку у нас стоит задача исследования модели квалификации `случайный лес`, то необходимо её выполнить"
   ]
  },
  {
   "cell_type": "code",
   "execution_count": 101,
   "metadata": {},
   "outputs": [
    {
     "name": "stdout",
     "output_type": "stream",
     "text": [
      "Величина метрики качества accurancy на обучающей выборке равна: 0.9507261410788381\n",
      "Величина метрики качества accurancy на валидационной выборке равна: 0.7387247278382582\n",
      "Величина метрики качества accurancy на тестовой выборке равна: 0.7573872472783826\n"
     ]
    }
   ],
   "source": [
    "# создание объекта модели классификации случайный лес\n",
    "model_ran_for = RandomForestClassifier(random_state=12345, n_estimators=3)\n",
    "\n",
    "# обучение модели \n",
    "model_ran_for.fit(features_train, target_train)\n",
    "\n",
    "# предсказания значения целевой переменной для обучающей выборки\n",
    "train_predictions = model_ran_for.predict(features_train)\n",
    "\n",
    "# предсказания значения целевой переменной для валидационной выборки\n",
    "valid_predictions = model_ran_for.predict(features_valid)\n",
    "\n",
    "# предсказания значения целевой переменной для тестовой выборки\n",
    "test_predictions = model_ran_for.predict(features_test)\n",
    "\n",
    "print('Величина метрики качества accurancy на обучающей выборке равна:', accuracy_score(target_train, train_predictions))\n",
    "print('Величина метрики качества accurancy на валидационной выборке равна:', accuracy_score(target_valid, valid_predictions))\n",
    "print('Величина метрики качества accurancy на тестовой выборке равна:', accuracy_score(target_test, test_predictions))"
   ]
  },
  {
   "cell_type": "markdown",
   "metadata": {},
   "source": [
    "Вновь, как и в случае с `деревом решений` при гиперпараметрах, выставленных по-умолчанию (как в теории _ЯП_), значения метрики качества на обучающей выборке гораздо выше, нежели на выборках валидационной и тестовой. Перечислим гиперпараметры, которыми будем оперировать, и наиболее применимые их значения:\n",
    "\n",
    "- `n_estimators` - количество деревьев в лесу (чаще всего принимает значения от 10 до 100)\n",
    "- `max_depth` - максимальная глубина дерева (чаще всего принимает значения от 5 до 20)\n",
    "- `min_samples_split` - минимальное количество наблюдений, необходимое для того, чтобы узел мог быть разделен (чаще всего принимает значения от 2 до 10)\n",
    "- `min_samples_leaf` - минимальное количество наблюдений в листе дерева (чаще всего принимает значения от 1 до 5)\n",
    "- `max_features` - количество признаков, используемых для поиска наилучшего разделения (чаще всего принимает значения от sqrt(features) до features).\n",
    "- `criterion` - функция для измерения качества разбиения\n",
    "\n",
    "Используем первые два параметра."
   ]
  },
  {
   "cell_type": "code",
   "execution_count": 149,
   "metadata": {},
   "outputs": [],
   "source": [
    "result_train_ran_for = pd.DataFrame(columns=['Количество деревьев в лесу n_estimators', 'Глубина дерева обучения max_depth', 'accurancy_train_ran_for', 'accurancy_test_ran_for'])\n",
    "\n",
    "for depth in range(1,21,5):\n",
    "    for est in range(1,101,10):\n",
    "        try:\n",
    "            model_ran_for = RandomForestClassifier(random_state=12345, n_estimators=est, max_depth=depth)\n",
    "            model_ran_for.fit(features_train, target_train)\n",
    "            train_predictions = model_ran_for.predict(features_train)\n",
    "            accurancy_train_ran_for = accuracy_score(target_train, train_predictions)\n",
    "            test_predictions = model_ran_for.predict(features_test)\n",
    "            accurancy_test_ran_for = accuracy_score(target_test, test_predictions)\n",
    "            result_train_ran_for = result_train_ran_for.append(\n",
    "                {\n",
    "                     'accurancy_train_ran_for': accurancy_train_ran_for,\n",
    "                     'accurancy_test_ran_for': accurancy_test_ran_for,\n",
    "                     'Количество деревьев в лесу n_estimators': est,\n",
    "                     'Глубина дерева обучения max_depth': depth\n",
    "                }, \n",
    "                ignore_index=True\n",
    "            )\n",
    "        except:\n",
    "            print(f'Алгоритм дерева решений не смог найти оптимальное значение параметра accurancy') "
   ]
  },
  {
   "cell_type": "code",
   "execution_count": 138,
   "metadata": {},
   "outputs": [],
   "source": [
    "# при желании можно раскомментировать строки с кодом, но мы их посчитали для промежуточной оценки, \n",
    "# поэтому чтобы не загружать проектную работу, не станем выводить лишнюю информацию\n",
    "# display(result_train_ran_for)\n",
    "# result_train_ran_for[(result_train_ran_for['accurancy_test_ran_for'] >= 0.80)]"
   ]
  },
  {
   "cell_type": "code",
   "execution_count": 151,
   "metadata": {},
   "outputs": [
    {
     "data": {
      "text/html": [
       "<div>\n",
       "<style scoped>\n",
       "    .dataframe tbody tr th:only-of-type {\n",
       "        vertical-align: middle;\n",
       "    }\n",
       "\n",
       "    .dataframe tbody tr th {\n",
       "        vertical-align: top;\n",
       "    }\n",
       "\n",
       "    .dataframe thead th {\n",
       "        text-align: right;\n",
       "    }\n",
       "</style>\n",
       "<table border=\"1\" class=\"dataframe\">\n",
       "  <thead>\n",
       "    <tr style=\"text-align: right;\">\n",
       "      <th></th>\n",
       "      <th>Количество деревьев в лесу n_estimators</th>\n",
       "      <th>Глубина дерева обучения max_depth</th>\n",
       "      <th>accurancy_train_ran_for</th>\n",
       "      <th>accurancy_test_ran_for</th>\n",
       "    </tr>\n",
       "  </thead>\n",
       "  <tbody>\n",
       "    <tr>\n",
       "      <th>30</th>\n",
       "      <td>1.0</td>\n",
       "      <td>16.0</td>\n",
       "      <td>0.882780</td>\n",
       "      <td>0.768274</td>\n",
       "    </tr>\n",
       "    <tr>\n",
       "      <th>3</th>\n",
       "      <td>31.0</td>\n",
       "      <td>1.0</td>\n",
       "      <td>0.781120</td>\n",
       "      <td>0.763608</td>\n",
       "    </tr>\n",
       "    <tr>\n",
       "      <th>4</th>\n",
       "      <td>41.0</td>\n",
       "      <td>1.0</td>\n",
       "      <td>0.767116</td>\n",
       "      <td>0.755832</td>\n",
       "    </tr>\n",
       "    <tr>\n",
       "      <th>6</th>\n",
       "      <td>61.0</td>\n",
       "      <td>1.0</td>\n",
       "      <td>0.764523</td>\n",
       "      <td>0.744946</td>\n",
       "    </tr>\n",
       "    <tr>\n",
       "      <th>8</th>\n",
       "      <td>81.0</td>\n",
       "      <td>1.0</td>\n",
       "      <td>0.764523</td>\n",
       "      <td>0.744946</td>\n",
       "    </tr>\n",
       "    <tr>\n",
       "      <th>5</th>\n",
       "      <td>51.0</td>\n",
       "      <td>1.0</td>\n",
       "      <td>0.764004</td>\n",
       "      <td>0.744946</td>\n",
       "    </tr>\n",
       "    <tr>\n",
       "      <th>7</th>\n",
       "      <td>71.0</td>\n",
       "      <td>1.0</td>\n",
       "      <td>0.764004</td>\n",
       "      <td>0.744946</td>\n",
       "    </tr>\n",
       "    <tr>\n",
       "      <th>9</th>\n",
       "      <td>91.0</td>\n",
       "      <td>1.0</td>\n",
       "      <td>0.761929</td>\n",
       "      <td>0.743390</td>\n",
       "    </tr>\n",
       "    <tr>\n",
       "      <th>2</th>\n",
       "      <td>21.0</td>\n",
       "      <td>1.0</td>\n",
       "      <td>0.751556</td>\n",
       "      <td>0.741835</td>\n",
       "    </tr>\n",
       "  </tbody>\n",
       "</table>\n",
       "</div>"
      ],
      "text/plain": [
       "    Количество деревьев в лесу n_estimators  \\\n",
       "30                                      1.0   \n",
       "3                                      31.0   \n",
       "4                                      41.0   \n",
       "6                                      61.0   \n",
       "8                                      81.0   \n",
       "5                                      51.0   \n",
       "7                                      71.0   \n",
       "9                                      91.0   \n",
       "2                                      21.0   \n",
       "\n",
       "    Глубина дерева обучения max_depth  accurancy_train_ran_for  \\\n",
       "30                               16.0                 0.882780   \n",
       "3                                 1.0                 0.781120   \n",
       "4                                 1.0                 0.767116   \n",
       "6                                 1.0                 0.764523   \n",
       "8                                 1.0                 0.764523   \n",
       "5                                 1.0                 0.764004   \n",
       "7                                 1.0                 0.764004   \n",
       "9                                 1.0                 0.761929   \n",
       "2                                 1.0                 0.751556   \n",
       "\n",
       "    accurancy_test_ran_for  \n",
       "30                0.768274  \n",
       "3                 0.763608  \n",
       "4                 0.755832  \n",
       "6                 0.744946  \n",
       "8                 0.744946  \n",
       "5                 0.744946  \n",
       "7                 0.744946  \n",
       "9                 0.743390  \n",
       "2                 0.741835  "
      ]
     },
     "execution_count": 151,
     "metadata": {},
     "output_type": "execute_result"
    }
   ],
   "source": [
    "#pd.set_option('display.max_rows', None)\n",
    "result_train_ran_for[\n",
    "    (result_train_ran_for['accurancy_test_ran_for'] >= 0.75) &\n",
    "    (result_train_ran_for['accurancy_test_ran_for'] <= 0.77) |\n",
    "    (result_train_ran_for['accurancy_train_ran_for'] >= 0.75) &\n",
    "    (result_train_ran_for['accurancy_train_ran_for'] <= 0.77)\n",
    "].sort_values('accurancy_train_ran_for', ascending=False)"
   ]
  },
  {
   "cell_type": "markdown",
   "metadata": {},
   "source": [
    "В случае использования модели квалификации `случайный лес` редко, когда критерий качества для тестовой выборки достигает 0.80. В таких случаях разрыв между значениями `accurancy` для обучающей и тестовой выборками становится существенным. \n",
    "\n",
    "Прежде всего, действительно нужно [подтвердить описанный выше факт](#Исследование-модели) - данная модель действительно самая медленная. Неслучайно для оценки ревьюера поставил шаг для гиперпараметра `n_estimators` в 10 и с диапазоном глубин деревье от 1 до 20. Однако изначально модель была обучена для количества _деревьев в лесу_ от 1 до 100 с шагом 2, но такой расчёт оказался крайне длительным.\n",
    "\n",
    "Наилучший результат, удовлетворяющий цели проектной работы, достигается при 27, 29 и 30 `деревьях` и `глубине` в 1 дерево. Всё же, как и предсказывалось, для выборки с малым числом признаков модель случайного леса не является оптимальной."
   ]
  },
  {
   "cell_type": "markdown",
   "metadata": {},
   "source": [
    "### Проверка модели на адекватность (бонус) "
   ]
  },
  {
   "cell_type": "markdown",
   "metadata": {},
   "source": [
    "<span style=\"color:green\">\n",
    "Ничего страшного, если не получится: эти данные сложнее тех, с которыми вы работали раньше. В следующем курсе подробнее об этом расскажем.\n",
    "<span>"
   ]
  },
  {
   "cell_type": "markdown",
   "metadata": {},
   "source": [
    "Пока к задаче не приступал, но "
   ]
  },
  {
   "cell_type": "markdown",
   "metadata": {},
   "source": [
    "## Чек-лист готовности проекта"
   ]
  },
  {
   "cell_type": "markdown",
   "metadata": {},
   "source": [
    "Поставьте 'x' в выполненных пунктах. Далее нажмите Shift+Enter."
   ]
  },
  {
   "cell_type": "markdown",
   "metadata": {},
   "source": [
    "- [x] Jupyter Notebook открыт\n",
    "- [x] Весь код исполняется без ошибок\n",
    "- [x] Ячейки с кодом расположены в порядке исполнения\n",
    "- [x] Выполнено задание 1: данные загружены и изучены\n",
    "- [x] Выполнено задание 2: данные разбиты на три выборки\n",
    "- [x] Выполнено задание 3: проведено исследование моделей\n",
    "    - [x] Рассмотрено больше одной модели\n",
    "    - [x] Рассмотрено хотя бы 3 значения гипепараметров для какой-нибудь модели\n",
    "    - [x] Написаны выводы по результатам исследования\n",
    "- [x] Выполнено задание 3: Проведено тестирование\n",
    "- [x] Удалось достичь accuracy не меньше 0.75\n"
   ]
  },
  {
   "cell_type": "code",
   "execution_count": null,
   "metadata": {},
   "outputs": [],
   "source": []
  }
 ],
 "metadata": {
  "ExecuteTimeLog": [
   {
    "duration": 1131,
    "start_time": "2023-09-20T20:28:00.895Z"
   },
   {
    "duration": 5,
    "start_time": "2023-09-20T20:30:09.079Z"
   },
   {
    "duration": 5,
    "start_time": "2023-09-20T20:31:58.806Z"
   },
   {
    "duration": 116,
    "start_time": "2023-09-20T20:32:29.457Z"
   },
   {
    "duration": 26,
    "start_time": "2023-09-20T20:32:35.791Z"
   },
   {
    "duration": 12,
    "start_time": "2023-09-20T20:32:41.173Z"
   },
   {
    "duration": 51,
    "start_time": "2023-09-21T10:26:57.982Z"
   },
   {
    "duration": 1543,
    "start_time": "2023-09-21T10:27:01.518Z"
   },
   {
    "duration": 134,
    "start_time": "2023-09-21T10:27:04.029Z"
   },
   {
    "duration": 3,
    "start_time": "2023-09-21T10:30:56.881Z"
   },
   {
    "duration": 4,
    "start_time": "2023-09-21T10:31:20.363Z"
   },
   {
    "duration": 38,
    "start_time": "2023-09-21T12:55:07.683Z"
   },
   {
    "duration": 38,
    "start_time": "2023-09-21T12:55:17.648Z"
   },
   {
    "duration": 6,
    "start_time": "2023-09-21T12:55:21.761Z"
   },
   {
    "duration": 7,
    "start_time": "2023-09-21T13:22:37.423Z"
   },
   {
    "duration": 4,
    "start_time": "2023-09-21T13:22:58.173Z"
   },
   {
    "duration": 6,
    "start_time": "2023-09-21T13:26:18.552Z"
   },
   {
    "duration": 5,
    "start_time": "2023-09-21T13:26:50.781Z"
   },
   {
    "duration": 6,
    "start_time": "2023-09-21T13:26:57.886Z"
   },
   {
    "duration": 4,
    "start_time": "2023-09-21T13:29:41.636Z"
   },
   {
    "duration": 13,
    "start_time": "2023-09-21T13:29:49.539Z"
   },
   {
    "duration": 5,
    "start_time": "2023-09-21T13:29:58.161Z"
   },
   {
    "duration": 4,
    "start_time": "2023-09-21T13:30:04.967Z"
   },
   {
    "duration": 5,
    "start_time": "2023-09-21T13:30:08.645Z"
   },
   {
    "duration": 5,
    "start_time": "2023-09-21T13:30:22.082Z"
   },
   {
    "duration": 4,
    "start_time": "2023-09-21T13:30:33.579Z"
   },
   {
    "duration": 5,
    "start_time": "2023-09-21T14:25:47.246Z"
   },
   {
    "duration": 6,
    "start_time": "2023-09-21T14:26:31.050Z"
   },
   {
    "duration": 4,
    "start_time": "2023-09-21T14:27:08.240Z"
   },
   {
    "duration": 4,
    "start_time": "2023-09-21T14:27:10.235Z"
   },
   {
    "duration": 8,
    "start_time": "2023-09-21T14:27:12.114Z"
   },
   {
    "duration": 5,
    "start_time": "2023-09-21T14:27:14.185Z"
   },
   {
    "duration": 5,
    "start_time": "2023-09-21T14:27:16.267Z"
   },
   {
    "duration": 4,
    "start_time": "2023-09-21T14:27:18.237Z"
   },
   {
    "duration": 5,
    "start_time": "2023-09-21T14:27:29.409Z"
   },
   {
    "duration": 5,
    "start_time": "2023-09-21T14:27:35.065Z"
   },
   {
    "duration": 4,
    "start_time": "2023-09-21T14:27:37.083Z"
   },
   {
    "duration": 4,
    "start_time": "2023-09-21T14:43:24.514Z"
   },
   {
    "duration": 3,
    "start_time": "2023-09-21T15:12:42.301Z"
   },
   {
    "duration": 73,
    "start_time": "2023-09-21T15:13:01.094Z"
   },
   {
    "duration": 3,
    "start_time": "2023-09-21T15:13:09.513Z"
   },
   {
    "duration": 12,
    "start_time": "2023-09-21T15:13:12.030Z"
   },
   {
    "duration": 4,
    "start_time": "2023-09-21T15:13:29.783Z"
   },
   {
    "duration": 13,
    "start_time": "2023-09-21T15:13:32.172Z"
   },
   {
    "duration": 4,
    "start_time": "2023-09-21T15:13:36.408Z"
   },
   {
    "duration": 40,
    "start_time": "2023-09-21T15:13:38.253Z"
   },
   {
    "duration": 4,
    "start_time": "2023-09-21T15:13:43.504Z"
   },
   {
    "duration": 12,
    "start_time": "2023-09-21T15:13:45.716Z"
   },
   {
    "duration": 37,
    "start_time": "2023-09-21T15:13:49.125Z"
   },
   {
    "duration": 5,
    "start_time": "2023-09-21T15:13:51.538Z"
   },
   {
    "duration": 5,
    "start_time": "2023-09-21T15:13:54.709Z"
   },
   {
    "duration": 11,
    "start_time": "2023-09-21T15:13:57.078Z"
   },
   {
    "duration": 9,
    "start_time": "2023-09-21T15:15:13.831Z"
   },
   {
    "duration": 4,
    "start_time": "2023-09-21T15:15:25.114Z"
   },
   {
    "duration": 11,
    "start_time": "2023-09-21T15:15:27.903Z"
   },
   {
    "duration": 121,
    "start_time": "2023-09-21T15:15:57.046Z"
   },
   {
    "duration": 5,
    "start_time": "2023-09-21T15:16:00.569Z"
   },
   {
    "duration": 14,
    "start_time": "2023-09-21T15:16:02.878Z"
   },
   {
    "duration": 6,
    "start_time": "2023-09-21T15:16:45.029Z"
   },
   {
    "duration": 4,
    "start_time": "2023-09-21T15:16:48.159Z"
   },
   {
    "duration": 5,
    "start_time": "2023-09-21T15:19:10.457Z"
   },
   {
    "duration": 12,
    "start_time": "2023-09-21T15:19:12.233Z"
   },
   {
    "duration": 5,
    "start_time": "2023-09-21T15:19:34.493Z"
   },
   {
    "duration": 6,
    "start_time": "2023-09-21T15:19:36.753Z"
   },
   {
    "duration": 14,
    "start_time": "2023-09-21T15:19:38.496Z"
   },
   {
    "duration": 13,
    "start_time": "2023-09-21T15:20:06.155Z"
   },
   {
    "duration": 3,
    "start_time": "2023-09-21T15:23:12.005Z"
   },
   {
    "duration": 6,
    "start_time": "2023-09-21T15:23:17.552Z"
   },
   {
    "duration": 6,
    "start_time": "2023-09-21T15:23:50.615Z"
   },
   {
    "duration": 5,
    "start_time": "2023-09-21T15:23:52.250Z"
   },
   {
    "duration": 4,
    "start_time": "2023-09-21T15:23:54.924Z"
   },
   {
    "duration": 9,
    "start_time": "2023-09-21T15:23:56.953Z"
   },
   {
    "duration": 4,
    "start_time": "2023-09-21T15:24:34.117Z"
   },
   {
    "duration": 5,
    "start_time": "2023-09-21T15:24:43.385Z"
   },
   {
    "duration": 4,
    "start_time": "2023-09-21T15:24:51.855Z"
   },
   {
    "duration": 4,
    "start_time": "2023-09-21T15:24:56.452Z"
   },
   {
    "duration": 37,
    "start_time": "2023-09-21T15:28:19.727Z"
   },
   {
    "duration": 29,
    "start_time": "2023-09-21T15:28:31.162Z"
   },
   {
    "duration": 1095,
    "start_time": "2023-09-21T17:55:08.233Z"
   },
   {
    "duration": 130,
    "start_time": "2023-09-21T17:55:09.330Z"
   },
   {
    "duration": 3,
    "start_time": "2023-09-21T17:55:09.462Z"
   },
   {
    "duration": 6,
    "start_time": "2023-09-21T17:55:09.467Z"
   },
   {
    "duration": 9,
    "start_time": "2023-09-21T17:55:09.474Z"
   },
   {
    "duration": 16,
    "start_time": "2023-09-21T17:55:09.485Z"
   },
   {
    "duration": 6,
    "start_time": "2023-09-21T17:55:09.503Z"
   },
   {
    "duration": 16,
    "start_time": "2023-09-21T17:55:09.510Z"
   },
   {
    "duration": 6,
    "start_time": "2023-09-21T17:55:09.527Z"
   },
   {
    "duration": 27,
    "start_time": "2023-09-21T18:07:00.230Z"
   },
   {
    "duration": 26,
    "start_time": "2023-09-21T18:07:07.912Z"
   },
   {
    "duration": 30,
    "start_time": "2023-09-21T18:07:17.978Z"
   },
   {
    "duration": 34,
    "start_time": "2023-09-21T18:12:34.329Z"
   },
   {
    "duration": 24,
    "start_time": "2023-09-21T18:12:38.884Z"
   },
   {
    "duration": 25,
    "start_time": "2023-09-21T18:13:14.615Z"
   },
   {
    "duration": 29,
    "start_time": "2023-09-21T18:13:26.717Z"
   },
   {
    "duration": 36,
    "start_time": "2023-09-21T18:14:19.550Z"
   },
   {
    "duration": 25,
    "start_time": "2023-09-21T18:17:37.588Z"
   },
   {
    "duration": 5,
    "start_time": "2023-09-21T18:25:03.988Z"
   },
   {
    "duration": 36,
    "start_time": "2023-09-21T18:25:28.478Z"
   },
   {
    "duration": 4,
    "start_time": "2023-09-21T18:25:31.221Z"
   },
   {
    "duration": 3,
    "start_time": "2023-09-21T18:25:33.109Z"
   },
   {
    "duration": 6,
    "start_time": "2023-09-21T18:25:36.148Z"
   },
   {
    "duration": 4,
    "start_time": "2023-09-21T18:25:52.990Z"
   },
   {
    "duration": 5,
    "start_time": "2023-09-21T18:26:14.481Z"
   },
   {
    "duration": 3,
    "start_time": "2023-09-21T18:27:36.379Z"
   },
   {
    "duration": 3,
    "start_time": "2023-09-21T18:27:37.823Z"
   },
   {
    "duration": 4,
    "start_time": "2023-09-21T18:27:39.405Z"
   },
   {
    "duration": 26,
    "start_time": "2023-09-21T18:27:48.879Z"
   },
   {
    "duration": 35,
    "start_time": "2023-09-21T18:30:05.105Z"
   },
   {
    "duration": 5,
    "start_time": "2023-09-21T18:30:10.884Z"
   },
   {
    "duration": 4,
    "start_time": "2023-09-21T18:30:13.309Z"
   },
   {
    "duration": 4,
    "start_time": "2023-09-21T18:30:14.925Z"
   },
   {
    "duration": 5,
    "start_time": "2023-09-21T18:30:16.221Z"
   },
   {
    "duration": 4,
    "start_time": "2023-09-21T18:30:19.085Z"
   },
   {
    "duration": 3,
    "start_time": "2023-09-21T18:30:20.572Z"
   },
   {
    "duration": 4,
    "start_time": "2023-09-21T18:30:21.844Z"
   },
   {
    "duration": 26,
    "start_time": "2023-09-21T18:30:24.548Z"
   },
   {
    "duration": 28,
    "start_time": "2023-09-21T18:43:56.182Z"
   },
   {
    "duration": 29,
    "start_time": "2023-09-21T18:45:26.303Z"
   },
   {
    "duration": 23,
    "start_time": "2023-09-21T18:51:07.762Z"
   },
   {
    "duration": 28,
    "start_time": "2023-09-21T18:51:55.074Z"
   },
   {
    "duration": 25,
    "start_time": "2023-09-21T18:52:03.218Z"
   },
   {
    "duration": 30,
    "start_time": "2023-09-21T18:52:05.916Z"
   },
   {
    "duration": 22,
    "start_time": "2023-09-21T18:52:08.297Z"
   },
   {
    "duration": 21,
    "start_time": "2023-09-21T18:52:12.089Z"
   },
   {
    "duration": 22,
    "start_time": "2023-09-21T18:52:17.085Z"
   },
   {
    "duration": 37,
    "start_time": "2023-09-21T18:52:22.709Z"
   },
   {
    "duration": 35,
    "start_time": "2023-09-21T18:52:26.110Z"
   },
   {
    "duration": 11,
    "start_time": "2023-09-21T18:52:43.360Z"
   },
   {
    "duration": 146,
    "start_time": "2023-09-21T18:52:59.474Z"
   },
   {
    "duration": 94,
    "start_time": "2023-09-21T18:53:24.326Z"
   },
   {
    "duration": 149,
    "start_time": "2023-09-21T18:53:37.500Z"
   },
   {
    "duration": 171,
    "start_time": "2023-09-21T18:53:43.792Z"
   },
   {
    "duration": 26,
    "start_time": "2023-09-21T18:53:51.774Z"
   },
   {
    "duration": 530,
    "start_time": "2023-09-21T18:54:31.522Z"
   },
   {
    "duration": 330,
    "start_time": "2023-09-21T18:54:38.839Z"
   },
   {
    "duration": 11,
    "start_time": "2023-09-21T18:54:50.805Z"
   },
   {
    "duration": 11,
    "start_time": "2023-09-21T18:55:31.180Z"
   },
   {
    "duration": 23,
    "start_time": "2023-09-21T18:55:40.673Z"
   },
   {
    "duration": 22,
    "start_time": "2023-09-21T18:55:54.773Z"
   },
   {
    "duration": 22,
    "start_time": "2023-09-21T18:55:56.778Z"
   },
   {
    "duration": 21,
    "start_time": "2023-09-21T18:55:57.404Z"
   },
   {
    "duration": 22,
    "start_time": "2023-09-21T18:56:01.834Z"
   },
   {
    "duration": 21,
    "start_time": "2023-09-21T18:56:03.400Z"
   },
   {
    "duration": 22,
    "start_time": "2023-09-21T18:56:06.877Z"
   },
   {
    "duration": 20,
    "start_time": "2023-09-21T18:56:09.408Z"
   },
   {
    "duration": 136,
    "start_time": "2023-09-21T18:57:18.876Z"
   },
   {
    "duration": 140,
    "start_time": "2023-09-21T18:57:58.678Z"
   },
   {
    "duration": 143,
    "start_time": "2023-09-21T18:58:02.438Z"
   },
   {
    "duration": 169,
    "start_time": "2023-09-21T18:58:05.445Z"
   },
   {
    "duration": 22,
    "start_time": "2023-09-21T18:58:15.134Z"
   },
   {
    "duration": 11,
    "start_time": "2023-09-21T18:58:49.478Z"
   },
   {
    "duration": 8,
    "start_time": "2023-09-21T18:58:59.605Z"
   },
   {
    "duration": 9,
    "start_time": "2023-09-21T18:59:07.823Z"
   },
   {
    "duration": 10,
    "start_time": "2023-09-21T18:59:22.022Z"
   },
   {
    "duration": 10,
    "start_time": "2023-09-21T18:59:27.676Z"
   },
   {
    "duration": 12,
    "start_time": "2023-09-21T19:00:19.096Z"
   },
   {
    "duration": 25,
    "start_time": "2023-09-21T19:00:27.071Z"
   },
   {
    "duration": 10,
    "start_time": "2023-09-21T19:00:38.940Z"
   },
   {
    "duration": 12,
    "start_time": "2023-09-21T19:00:49.794Z"
   },
   {
    "duration": 11,
    "start_time": "2023-09-21T19:01:19.742Z"
   },
   {
    "duration": 24,
    "start_time": "2023-09-21T19:01:25.176Z"
   },
   {
    "duration": 24,
    "start_time": "2023-09-21T19:01:29.324Z"
   },
   {
    "duration": 20,
    "start_time": "2023-09-21T19:01:33.005Z"
   },
   {
    "duration": 21,
    "start_time": "2023-09-21T19:01:40.396Z"
   },
   {
    "duration": 33,
    "start_time": "2023-09-21T19:01:44.985Z"
   },
   {
    "duration": 24,
    "start_time": "2023-09-21T19:01:49.914Z"
   },
   {
    "duration": 4,
    "start_time": "2023-09-21T19:02:33.744Z"
   },
   {
    "duration": 22,
    "start_time": "2023-09-21T19:02:43.306Z"
   },
   {
    "duration": 23,
    "start_time": "2023-09-21T19:02:47.504Z"
   },
   {
    "duration": 1086,
    "start_time": "2023-09-21T19:07:07.116Z"
   },
   {
    "duration": 1023,
    "start_time": "2023-09-21T19:08:51.790Z"
   },
   {
    "duration": 1054,
    "start_time": "2023-09-21T19:09:02.183Z"
   },
   {
    "duration": 1157,
    "start_time": "2023-09-21T19:10:02.842Z"
   },
   {
    "duration": 1032,
    "start_time": "2023-09-21T19:10:08.572Z"
   },
   {
    "duration": 1054,
    "start_time": "2023-09-21T19:10:14.570Z"
   },
   {
    "duration": 1043,
    "start_time": "2023-09-21T19:11:38.731Z"
   },
   {
    "duration": 1035,
    "start_time": "2023-09-21T19:11:47.639Z"
   },
   {
    "duration": 1257,
    "start_time": "2023-09-21T19:12:46.711Z"
   },
   {
    "duration": 1219,
    "start_time": "2023-09-21T19:12:55.774Z"
   },
   {
    "duration": 1028,
    "start_time": "2023-09-21T19:13:49.533Z"
   },
   {
    "duration": 114,
    "start_time": "2023-09-21T19:14:03.010Z"
   },
   {
    "duration": 92,
    "start_time": "2023-09-21T19:14:14.460Z"
   },
   {
    "duration": 1001,
    "start_time": "2023-09-21T19:14:37.235Z"
   },
   {
    "duration": 448,
    "start_time": "2023-09-21T19:14:45.822Z"
   },
   {
    "duration": 226,
    "start_time": "2023-09-21T19:14:49.074Z"
   },
   {
    "duration": 4,
    "start_time": "2023-09-21T19:14:52.174Z"
   },
   {
    "duration": 143,
    "start_time": "2023-09-21T19:14:55.121Z"
   },
   {
    "duration": 120,
    "start_time": "2023-09-21T19:15:01.331Z"
   },
   {
    "duration": 58,
    "start_time": "2023-09-21T19:15:04.379Z"
   },
   {
    "duration": 39,
    "start_time": "2023-09-21T19:15:07.834Z"
   },
   {
    "duration": 29,
    "start_time": "2023-09-21T19:15:13.525Z"
   },
   {
    "duration": 25,
    "start_time": "2023-09-21T19:15:17.104Z"
   },
   {
    "duration": 24,
    "start_time": "2023-09-21T19:15:20.028Z"
   },
   {
    "duration": 117,
    "start_time": "2023-09-21T19:15:25.572Z"
   },
   {
    "duration": 117,
    "start_time": "2023-09-21T19:15:38.513Z"
   },
   {
    "duration": 110,
    "start_time": "2023-09-21T19:15:42.743Z"
   },
   {
    "duration": 34,
    "start_time": "2023-09-21T19:16:17.472Z"
   },
   {
    "duration": 28,
    "start_time": "2023-09-21T19:16:31.033Z"
   },
   {
    "duration": 48,
    "start_time": "2023-09-21T19:16:34.843Z"
   },
   {
    "duration": 117,
    "start_time": "2023-09-21T19:16:43.178Z"
   },
   {
    "duration": 13,
    "start_time": "2023-09-21T19:17:15.106Z"
   },
   {
    "duration": 13,
    "start_time": "2023-09-21T19:17:43.941Z"
   },
   {
    "duration": 111,
    "start_time": "2023-09-21T19:17:50.568Z"
   },
   {
    "duration": 146,
    "start_time": "2023-09-21T19:18:07.183Z"
   },
   {
    "duration": 99,
    "start_time": "2023-09-21T19:18:11.774Z"
   },
   {
    "duration": 239,
    "start_time": "2023-09-21T19:19:00.878Z"
   },
   {
    "duration": 10,
    "start_time": "2023-09-21T19:20:41.487Z"
   },
   {
    "duration": 87,
    "start_time": "2023-09-21T19:20:48.285Z"
   },
   {
    "duration": 12,
    "start_time": "2023-09-21T19:21:00.882Z"
   },
   {
    "duration": 9,
    "start_time": "2023-09-21T19:21:12.120Z"
   },
   {
    "duration": 81,
    "start_time": "2023-09-21T19:21:17.373Z"
   },
   {
    "duration": 134,
    "start_time": "2023-09-21T19:21:55.839Z"
   },
   {
    "duration": 15,
    "start_time": "2023-09-21T19:22:14.707Z"
   },
   {
    "duration": 11,
    "start_time": "2023-09-21T19:22:22.940Z"
   },
   {
    "duration": 12,
    "start_time": "2023-09-21T19:22:28.297Z"
   },
   {
    "duration": 1018,
    "start_time": "2023-09-21T19:22:40.265Z"
   },
   {
    "duration": 73,
    "start_time": "2023-09-21T19:23:20.148Z"
   },
   {
    "duration": 100,
    "start_time": "2023-09-21T19:23:40.814Z"
   },
   {
    "duration": 26,
    "start_time": "2023-09-21T19:23:45.787Z"
   },
   {
    "duration": 101,
    "start_time": "2023-09-21T19:23:50.386Z"
   },
   {
    "duration": 103,
    "start_time": "2023-09-21T19:23:56.590Z"
   },
   {
    "duration": 110,
    "start_time": "2023-09-21T19:23:59.803Z"
   },
   {
    "duration": 98,
    "start_time": "2023-09-21T19:24:02.530Z"
   },
   {
    "duration": 155,
    "start_time": "2023-09-21T19:24:11.479Z"
   },
   {
    "duration": 100,
    "start_time": "2023-09-21T19:24:14.698Z"
   },
   {
    "duration": 102,
    "start_time": "2023-09-21T19:27:02.629Z"
   },
   {
    "duration": 7,
    "start_time": "2023-09-21T19:27:33.227Z"
   },
   {
    "duration": 5,
    "start_time": "2023-09-21T19:27:54.468Z"
   },
   {
    "duration": 51,
    "start_time": "2023-09-21T19:27:54.475Z"
   },
   {
    "duration": 4,
    "start_time": "2023-09-21T19:27:54.527Z"
   },
   {
    "duration": 6,
    "start_time": "2023-09-21T19:27:54.532Z"
   },
   {
    "duration": 10,
    "start_time": "2023-09-21T19:27:54.540Z"
   },
   {
    "duration": 13,
    "start_time": "2023-09-21T19:27:54.552Z"
   },
   {
    "duration": 6,
    "start_time": "2023-09-21T19:27:54.567Z"
   },
   {
    "duration": 8,
    "start_time": "2023-09-21T19:27:54.574Z"
   },
   {
    "duration": 11,
    "start_time": "2023-09-21T19:27:54.583Z"
   },
   {
    "duration": 27,
    "start_time": "2023-09-21T19:27:54.595Z"
   },
   {
    "duration": 1146,
    "start_time": "2023-09-21T19:27:54.623Z"
   },
   {
    "duration": 115,
    "start_time": "2023-09-21T19:27:55.771Z"
   },
   {
    "duration": 1036,
    "start_time": "2023-09-21T19:30:32.989Z"
   },
   {
    "duration": 110,
    "start_time": "2023-09-21T19:30:36.444Z"
   },
   {
    "duration": 7,
    "start_time": "2023-09-21T19:31:12.664Z"
   },
   {
    "duration": 3,
    "start_time": "2023-09-21T19:56:14.429Z"
   },
   {
    "duration": 77,
    "start_time": "2023-09-21T19:56:14.433Z"
   },
   {
    "duration": 4,
    "start_time": "2023-09-21T19:56:14.512Z"
   },
   {
    "duration": 8,
    "start_time": "2023-09-21T19:56:14.517Z"
   },
   {
    "duration": 11,
    "start_time": "2023-09-21T19:56:14.527Z"
   },
   {
    "duration": 14,
    "start_time": "2023-09-21T19:56:14.539Z"
   },
   {
    "duration": 15,
    "start_time": "2023-09-21T19:56:14.554Z"
   },
   {
    "duration": 14,
    "start_time": "2023-09-21T19:56:14.570Z"
   },
   {
    "duration": 30,
    "start_time": "2023-09-21T19:56:14.585Z"
   },
   {
    "duration": 36,
    "start_time": "2023-09-21T19:56:14.617Z"
   },
   {
    "duration": 1027,
    "start_time": "2023-09-21T19:56:14.655Z"
   },
   {
    "duration": 102,
    "start_time": "2023-09-21T19:56:15.684Z"
   },
   {
    "duration": 6,
    "start_time": "2023-09-21T19:56:15.788Z"
   },
   {
    "duration": 6,
    "start_time": "2023-09-21T20:17:53.186Z"
   },
   {
    "duration": 7,
    "start_time": "2023-09-21T20:18:07.766Z"
   },
   {
    "duration": 7,
    "start_time": "2023-09-21T20:18:56.874Z"
   },
   {
    "duration": 10,
    "start_time": "2023-09-21T20:19:18.359Z"
   },
   {
    "duration": 10,
    "start_time": "2023-09-21T20:19:22.569Z"
   },
   {
    "duration": 10,
    "start_time": "2023-09-21T20:19:25.287Z"
   },
   {
    "duration": 9,
    "start_time": "2023-09-21T20:19:34.104Z"
   },
   {
    "duration": 10,
    "start_time": "2023-09-21T20:19:37.347Z"
   },
   {
    "duration": 6,
    "start_time": "2023-09-21T20:19:41.533Z"
   },
   {
    "duration": 13,
    "start_time": "2023-09-21T20:19:56.354Z"
   },
   {
    "duration": 7,
    "start_time": "2023-09-21T20:20:11.707Z"
   },
   {
    "duration": 8,
    "start_time": "2023-09-21T20:21:36.813Z"
   },
   {
    "duration": 11,
    "start_time": "2023-09-21T20:23:54.301Z"
   },
   {
    "duration": 3,
    "start_time": "2023-09-21T20:26:48.313Z"
   },
   {
    "duration": 153,
    "start_time": "2023-09-21T20:26:57.639Z"
   },
   {
    "duration": 8,
    "start_time": "2023-09-21T20:35:18.150Z"
   },
   {
    "duration": 8,
    "start_time": "2023-09-21T20:35:32.742Z"
   },
   {
    "duration": 6,
    "start_time": "2023-09-21T20:35:59.517Z"
   },
   {
    "duration": 6,
    "start_time": "2023-09-21T20:40:05.689Z"
   },
   {
    "duration": 13,
    "start_time": "2023-09-21T20:40:17.657Z"
   },
   {
    "duration": 7,
    "start_time": "2023-09-21T20:40:29.855Z"
   },
   {
    "duration": 7,
    "start_time": "2023-09-21T20:41:43.740Z"
   },
   {
    "duration": 13,
    "start_time": "2023-09-21T20:45:20.748Z"
   },
   {
    "duration": 7,
    "start_time": "2023-09-21T20:45:59.119Z"
   },
   {
    "duration": 4,
    "start_time": "2023-09-21T20:46:05.756Z"
   },
   {
    "duration": 5,
    "start_time": "2023-09-21T20:46:09.174Z"
   },
   {
    "duration": 6,
    "start_time": "2023-09-21T20:49:05.770Z"
   },
   {
    "duration": 11,
    "start_time": "2023-09-21T20:51:46.022Z"
   },
   {
    "duration": 10,
    "start_time": "2023-09-21T20:51:55.476Z"
   },
   {
    "duration": 10,
    "start_time": "2023-09-21T20:52:33.289Z"
   },
   {
    "duration": 15,
    "start_time": "2023-09-21T20:53:47.731Z"
   },
   {
    "duration": 13,
    "start_time": "2023-09-21T20:54:15.504Z"
   },
   {
    "duration": 4,
    "start_time": "2023-09-21T20:54:31.095Z"
   },
   {
    "duration": 6,
    "start_time": "2023-09-21T20:54:35.799Z"
   },
   {
    "duration": 15,
    "start_time": "2023-09-21T20:54:44.636Z"
   },
   {
    "duration": 15,
    "start_time": "2023-09-21T20:56:40.594Z"
   },
   {
    "duration": 13,
    "start_time": "2023-09-21T20:56:52.534Z"
   },
   {
    "duration": 14,
    "start_time": "2023-09-21T20:57:11.605Z"
   },
   {
    "duration": 17,
    "start_time": "2023-09-21T20:57:45.272Z"
   },
   {
    "duration": 14,
    "start_time": "2023-09-21T20:57:53.866Z"
   },
   {
    "duration": 25,
    "start_time": "2023-09-21T20:58:09.336Z"
   },
   {
    "duration": 18,
    "start_time": "2023-09-21T20:58:13.932Z"
   },
   {
    "duration": 18,
    "start_time": "2023-09-21T20:58:29.920Z"
   },
   {
    "duration": 30,
    "start_time": "2023-09-21T20:58:36.032Z"
   },
   {
    "duration": 4,
    "start_time": "2023-09-21T21:01:08.465Z"
   },
   {
    "duration": 16,
    "start_time": "2023-09-21T21:02:33.777Z"
   },
   {
    "duration": 10,
    "start_time": "2023-09-21T21:05:14.564Z"
   },
   {
    "duration": 8,
    "start_time": "2023-09-21T21:05:19.513Z"
   },
   {
    "duration": 10,
    "start_time": "2023-09-21T21:18:29.263Z"
   },
   {
    "duration": 9,
    "start_time": "2023-09-21T21:19:48.803Z"
   },
   {
    "duration": 553692,
    "start_time": "2023-09-21T21:37:05.724Z"
   },
   {
    "duration": 99,
    "start_time": "2023-09-22T04:28:20.538Z"
   },
   {
    "duration": 24,
    "start_time": "2023-09-22T04:39:26.039Z"
   },
   {
    "duration": 61110,
    "start_time": "2023-09-22T04:54:13.963Z"
   },
   {
    "duration": 98,
    "start_time": "2023-09-22T05:22:12.724Z"
   },
   {
    "duration": 89,
    "start_time": "2023-09-22T05:22:22.728Z"
   },
   {
    "duration": 27,
    "start_time": "2023-09-22T05:22:33.035Z"
   },
   {
    "duration": 91,
    "start_time": "2023-09-22T05:22:51.144Z"
   },
   {
    "duration": 18,
    "start_time": "2023-09-22T05:22:55.748Z"
   },
   {
    "duration": 59,
    "start_time": "2023-09-22T12:21:37.465Z"
   },
   {
    "duration": 1237,
    "start_time": "2023-09-22T12:22:27.732Z"
   },
   {
    "duration": 109,
    "start_time": "2023-09-22T12:22:28.972Z"
   },
   {
    "duration": 5,
    "start_time": "2023-09-22T12:22:29.084Z"
   },
   {
    "duration": 25,
    "start_time": "2023-09-22T12:22:29.091Z"
   },
   {
    "duration": 19,
    "start_time": "2023-09-22T12:22:29.118Z"
   },
   {
    "duration": 12,
    "start_time": "2023-09-22T12:22:29.138Z"
   },
   {
    "duration": 31,
    "start_time": "2023-09-22T12:22:29.152Z"
   },
   {
    "duration": 5,
    "start_time": "2023-09-22T12:22:29.187Z"
   },
   {
    "duration": 15,
    "start_time": "2023-09-22T12:22:29.194Z"
   },
   {
    "duration": 90,
    "start_time": "2023-09-22T12:22:29.211Z"
   },
   {
    "duration": 0,
    "start_time": "2023-09-22T12:22:29.303Z"
   },
   {
    "duration": 0,
    "start_time": "2023-09-22T12:22:29.304Z"
   },
   {
    "duration": 0,
    "start_time": "2023-09-22T12:22:29.305Z"
   },
   {
    "duration": 0,
    "start_time": "2023-09-22T12:22:29.307Z"
   },
   {
    "duration": 0,
    "start_time": "2023-09-22T12:22:29.308Z"
   },
   {
    "duration": 0,
    "start_time": "2023-09-22T12:22:29.309Z"
   },
   {
    "duration": 0,
    "start_time": "2023-09-22T12:22:29.310Z"
   },
   {
    "duration": 3,
    "start_time": "2023-09-22T12:23:02.333Z"
   },
   {
    "duration": 134,
    "start_time": "2023-09-22T12:23:02.338Z"
   },
   {
    "duration": 8,
    "start_time": "2023-09-22T12:23:02.473Z"
   },
   {
    "duration": 8,
    "start_time": "2023-09-22T12:23:02.483Z"
   },
   {
    "duration": 7,
    "start_time": "2023-09-22T12:23:02.493Z"
   },
   {
    "duration": 15,
    "start_time": "2023-09-22T12:23:02.502Z"
   },
   {
    "duration": 14,
    "start_time": "2023-09-22T12:23:02.519Z"
   },
   {
    "duration": 5,
    "start_time": "2023-09-22T12:23:02.535Z"
   },
   {
    "duration": 27,
    "start_time": "2023-09-22T12:23:02.541Z"
   },
   {
    "duration": 37,
    "start_time": "2023-09-22T12:23:02.570Z"
   },
   {
    "duration": 1306,
    "start_time": "2023-09-22T12:23:02.609Z"
   },
   {
    "duration": 168,
    "start_time": "2023-09-22T12:23:03.917Z"
   },
   {
    "duration": 88,
    "start_time": "2023-09-22T12:23:04.091Z"
   },
   {
    "duration": 9,
    "start_time": "2023-09-22T12:23:04.181Z"
   },
   {
    "duration": 15,
    "start_time": "2023-09-22T12:23:04.192Z"
   },
   {
    "duration": 86458,
    "start_time": "2023-09-22T12:23:04.208Z"
   },
   {
    "duration": 192,
    "start_time": "2023-09-22T12:24:30.823Z"
   },
   {
    "duration": 165,
    "start_time": "2023-09-22T12:24:42.975Z"
   },
   {
    "duration": 180,
    "start_time": "2023-09-22T12:24:55.712Z"
   },
   {
    "duration": 149,
    "start_time": "2023-09-22T12:25:00.446Z"
   },
   {
    "duration": 44,
    "start_time": "2023-09-22T12:25:20.268Z"
   },
   {
    "duration": 22,
    "start_time": "2023-09-22T12:25:27.622Z"
   },
   {
    "duration": 202,
    "start_time": "2023-09-22T12:25:54.974Z"
   },
   {
    "duration": 14,
    "start_time": "2023-09-22T12:26:35.173Z"
   },
   {
    "duration": 125,
    "start_time": "2023-09-22T12:26:38.267Z"
   },
   {
    "duration": 117,
    "start_time": "2023-09-22T12:26:48.523Z"
   },
   {
    "duration": 156,
    "start_time": "2023-09-22T12:26:52.744Z"
   },
   {
    "duration": 25,
    "start_time": "2023-09-22T12:28:05.437Z"
   },
   {
    "duration": 148,
    "start_time": "2023-09-22T12:28:09.722Z"
   },
   {
    "duration": 118,
    "start_time": "2023-09-22T12:28:19.878Z"
   },
   {
    "duration": 34,
    "start_time": "2023-09-22T12:29:05.974Z"
   },
   {
    "duration": 31,
    "start_time": "2023-09-22T12:29:10.994Z"
   },
   {
    "duration": 140,
    "start_time": "2023-09-22T12:29:46.996Z"
   },
   {
    "duration": 24,
    "start_time": "2023-09-22T12:43:59.137Z"
   },
   {
    "duration": 20,
    "start_time": "2023-09-22T12:44:15.701Z"
   },
   {
    "duration": 24,
    "start_time": "2023-09-22T12:46:37.080Z"
   },
   {
    "duration": 29,
    "start_time": "2023-09-22T12:48:20.558Z"
   },
   {
    "duration": 23,
    "start_time": "2023-09-22T12:48:29.218Z"
   },
   {
    "duration": 4,
    "start_time": "2023-09-22T12:50:17.874Z"
   },
   {
    "duration": 24,
    "start_time": "2023-09-22T12:50:27.175Z"
   },
   {
    "duration": 24,
    "start_time": "2023-09-22T12:50:42.075Z"
   },
   {
    "duration": 26,
    "start_time": "2023-09-22T12:50:45.854Z"
   },
   {
    "duration": 14,
    "start_time": "2023-09-22T12:50:48.628Z"
   },
   {
    "duration": 3,
    "start_time": "2023-09-22T12:51:47.418Z"
   },
   {
    "duration": 3,
    "start_time": "2023-09-22T12:52:02.889Z"
   },
   {
    "duration": 79,
    "start_time": "2023-09-22T12:52:17.020Z"
   },
   {
    "duration": 92,
    "start_time": "2023-09-22T12:52:31.097Z"
   },
   {
    "duration": 98,
    "start_time": "2023-09-22T12:52:48.222Z"
   },
   {
    "duration": 148,
    "start_time": "2023-09-22T12:53:08.167Z"
   },
   {
    "duration": 242,
    "start_time": "2023-09-22T12:53:24.867Z"
   },
   {
    "duration": 87,
    "start_time": "2023-09-22T12:54:42.697Z"
   },
   {
    "duration": 11,
    "start_time": "2023-09-22T12:55:02.787Z"
   },
   {
    "duration": 16,
    "start_time": "2023-09-22T12:55:10.873Z"
   },
   {
    "duration": 12,
    "start_time": "2023-09-22T12:55:36.282Z"
   },
   {
    "duration": 4,
    "start_time": "2023-09-22T12:55:46.299Z"
   },
   {
    "duration": 13,
    "start_time": "2023-09-22T12:56:27.273Z"
   },
   {
    "duration": 11,
    "start_time": "2023-09-22T12:56:37.598Z"
   },
   {
    "duration": 13,
    "start_time": "2023-09-22T12:56:55.274Z"
   },
   {
    "duration": 19,
    "start_time": "2023-09-22T12:57:15.570Z"
   },
   {
    "duration": 6,
    "start_time": "2023-09-22T12:57:32.907Z"
   },
   {
    "duration": 5,
    "start_time": "2023-09-22T12:57:42.895Z"
   },
   {
    "duration": 6,
    "start_time": "2023-09-22T12:57:45.181Z"
   },
   {
    "duration": 18,
    "start_time": "2023-09-22T12:57:54.613Z"
   },
   {
    "duration": 5,
    "start_time": "2023-09-22T12:57:56.977Z"
   },
   {
    "duration": 17,
    "start_time": "2023-09-22T12:58:02.981Z"
   },
   {
    "duration": 5,
    "start_time": "2023-09-22T12:58:07.414Z"
   },
   {
    "duration": 15,
    "start_time": "2023-09-22T12:58:10.525Z"
   },
   {
    "duration": 5,
    "start_time": "2023-09-22T12:58:12.825Z"
   },
   {
    "duration": 22,
    "start_time": "2023-09-22T13:14:58.531Z"
   },
   {
    "duration": 5,
    "start_time": "2023-09-22T13:15:01.262Z"
   },
   {
    "duration": 42,
    "start_time": "2023-09-22T13:15:05.231Z"
   },
   {
    "duration": 11,
    "start_time": "2023-09-22T13:15:07.573Z"
   },
   {
    "duration": 15,
    "start_time": "2023-09-22T13:15:18.006Z"
   },
   {
    "duration": 5,
    "start_time": "2023-09-22T13:15:20.013Z"
   },
   {
    "duration": 6,
    "start_time": "2023-09-22T13:15:25.875Z"
   },
   {
    "duration": 8,
    "start_time": "2023-09-22T13:15:26.670Z"
   },
   {
    "duration": 6,
    "start_time": "2023-09-22T13:15:27.282Z"
   },
   {
    "duration": 6,
    "start_time": "2023-09-22T13:15:27.774Z"
   },
   {
    "duration": 18,
    "start_time": "2023-09-22T13:15:29.716Z"
   },
   {
    "duration": 6,
    "start_time": "2023-09-22T13:15:31.526Z"
   },
   {
    "duration": 19,
    "start_time": "2023-09-22T13:15:33.718Z"
   },
   {
    "duration": 5,
    "start_time": "2023-09-22T13:15:35.816Z"
   },
   {
    "duration": 19,
    "start_time": "2023-09-22T13:15:42.689Z"
   },
   {
    "duration": 7,
    "start_time": "2023-09-22T13:15:44.887Z"
   },
   {
    "duration": 11,
    "start_time": "2023-09-22T13:43:23.494Z"
   },
   {
    "duration": 6,
    "start_time": "2023-09-22T13:43:32.996Z"
   },
   {
    "duration": 17,
    "start_time": "2023-09-22T13:45:42.178Z"
   },
   {
    "duration": 40,
    "start_time": "2023-09-22T13:46:02.032Z"
   },
   {
    "duration": 13,
    "start_time": "2023-09-22T13:46:09.016Z"
   },
   {
    "duration": 15,
    "start_time": "2023-09-22T13:46:12.288Z"
   },
   {
    "duration": 15,
    "start_time": "2023-09-22T13:46:16.605Z"
   },
   {
    "duration": 15,
    "start_time": "2023-09-22T13:46:19.974Z"
   },
   {
    "duration": 12,
    "start_time": "2023-09-22T13:46:26.176Z"
   },
   {
    "duration": 11,
    "start_time": "2023-09-22T13:46:31.299Z"
   },
   {
    "duration": 13,
    "start_time": "2023-09-22T13:46:37.013Z"
   },
   {
    "duration": 19,
    "start_time": "2023-09-22T13:53:58.161Z"
   },
   {
    "duration": 8,
    "start_time": "2023-09-22T13:54:45.867Z"
   },
   {
    "duration": 16,
    "start_time": "2023-09-22T13:55:21.197Z"
   },
   {
    "duration": 5,
    "start_time": "2023-09-22T13:55:23.332Z"
   },
   {
    "duration": 10,
    "start_time": "2023-09-22T13:55:36.823Z"
   },
   {
    "duration": 1081,
    "start_time": "2023-09-22T15:52:15.615Z"
   },
   {
    "duration": 189,
    "start_time": "2023-09-22T15:52:16.698Z"
   },
   {
    "duration": 3,
    "start_time": "2023-09-22T15:52:16.889Z"
   },
   {
    "duration": 14,
    "start_time": "2023-09-22T15:52:16.894Z"
   },
   {
    "duration": 6,
    "start_time": "2023-09-22T15:52:16.910Z"
   },
   {
    "duration": 11,
    "start_time": "2023-09-22T15:52:16.917Z"
   },
   {
    "duration": 27,
    "start_time": "2023-09-22T15:52:16.929Z"
   },
   {
    "duration": 8,
    "start_time": "2023-09-22T15:52:16.957Z"
   },
   {
    "duration": 8,
    "start_time": "2023-09-22T15:52:16.966Z"
   },
   {
    "duration": 37,
    "start_time": "2023-09-22T15:52:16.976Z"
   },
   {
    "duration": 1046,
    "start_time": "2023-09-22T15:52:17.015Z"
   },
   {
    "duration": 129,
    "start_time": "2023-09-22T15:52:18.062Z"
   },
   {
    "duration": 91,
    "start_time": "2023-09-22T15:52:18.193Z"
   },
   {
    "duration": 8,
    "start_time": "2023-09-22T15:52:18.287Z"
   },
   {
    "duration": 14,
    "start_time": "2023-09-22T15:52:18.296Z"
   },
   {
    "duration": 65622,
    "start_time": "2023-09-22T15:52:18.312Z"
   },
   {
    "duration": 25,
    "start_time": "2023-09-22T15:53:23.935Z"
   },
   {
    "duration": 117,
    "start_time": "2023-09-22T15:53:23.962Z"
   },
   {
    "duration": 17,
    "start_time": "2023-09-22T15:53:24.081Z"
   },
   {
    "duration": 5,
    "start_time": "2023-09-22T15:53:24.099Z"
   },
   {
    "duration": 13,
    "start_time": "2023-09-22T15:53:24.106Z"
   },
   {
    "duration": 23,
    "start_time": "2023-09-22T15:53:24.120Z"
   },
   {
    "duration": 14,
    "start_time": "2023-09-22T16:10:02.542Z"
   },
   {
    "duration": 15,
    "start_time": "2023-09-22T16:10:09.246Z"
   },
   {
    "duration": 11,
    "start_time": "2023-09-22T16:10:14.928Z"
   },
   {
    "duration": 10,
    "start_time": "2023-09-22T16:10:20.036Z"
   },
   {
    "duration": 18,
    "start_time": "2023-09-22T16:10:27.920Z"
   },
   {
    "duration": 5,
    "start_time": "2023-09-22T16:10:32.738Z"
   },
   {
    "duration": 11,
    "start_time": "2023-09-22T16:10:38.465Z"
   },
   {
    "duration": 12,
    "start_time": "2023-09-22T16:10:43.121Z"
   },
   {
    "duration": 24,
    "start_time": "2023-09-22T16:11:28.751Z"
   },
   {
    "duration": 10,
    "start_time": "2023-09-22T16:11:32.069Z"
   },
   {
    "duration": 12,
    "start_time": "2023-09-22T16:13:28.374Z"
   },
   {
    "duration": 11,
    "start_time": "2023-09-22T16:13:33.376Z"
   },
   {
    "duration": 10,
    "start_time": "2023-09-22T16:13:42.242Z"
   },
   {
    "duration": 15,
    "start_time": "2023-09-22T16:13:46.214Z"
   },
   {
    "duration": 79,
    "start_time": "2023-09-22T16:20:25.141Z"
   },
   {
    "duration": 85,
    "start_time": "2023-09-22T16:21:05.990Z"
   },
   {
    "duration": 112,
    "start_time": "2023-09-22T16:21:36.173Z"
   },
   {
    "duration": 74,
    "start_time": "2023-09-22T16:22:33.030Z"
   },
   {
    "duration": 288,
    "start_time": "2023-09-22T16:22:48.462Z"
   },
   {
    "duration": 78,
    "start_time": "2023-09-22T16:24:21.650Z"
   },
   {
    "duration": 76,
    "start_time": "2023-09-22T16:24:27.678Z"
   },
   {
    "duration": 80,
    "start_time": "2023-09-22T16:24:33.774Z"
   },
   {
    "duration": 77,
    "start_time": "2023-09-22T16:24:47.681Z"
   },
   {
    "duration": 15,
    "start_time": "2023-09-22T16:25:36.070Z"
   },
   {
    "duration": 12,
    "start_time": "2023-09-22T16:26:17.520Z"
   },
   {
    "duration": 12,
    "start_time": "2023-09-22T16:26:23.407Z"
   },
   {
    "duration": 13,
    "start_time": "2023-09-22T16:26:27.749Z"
   },
   {
    "duration": 11,
    "start_time": "2023-09-22T16:33:41.981Z"
   },
   {
    "duration": 58,
    "start_time": "2023-09-22T16:40:20.029Z"
   },
   {
    "duration": 6,
    "start_time": "2023-09-22T16:41:59.973Z"
   },
   {
    "duration": 6,
    "start_time": "2023-09-22T16:42:32.836Z"
   },
   {
    "duration": 6,
    "start_time": "2023-09-22T16:43:05.034Z"
   },
   {
    "duration": 90,
    "start_time": "2023-09-22T16:44:54.508Z"
   },
   {
    "duration": 104,
    "start_time": "2023-09-22T16:45:00.413Z"
   },
   {
    "duration": 123,
    "start_time": "2023-09-22T16:45:22.914Z"
   },
   {
    "duration": 148,
    "start_time": "2023-09-22T16:47:45.882Z"
   },
   {
    "duration": 11,
    "start_time": "2023-09-22T16:48:10.765Z"
   },
   {
    "duration": 123,
    "start_time": "2023-09-22T16:50:27.083Z"
   },
   {
    "duration": 135,
    "start_time": "2023-09-22T16:50:40.098Z"
   },
   {
    "duration": 1179,
    "start_time": "2023-09-22T16:53:55.635Z"
   },
   {
    "duration": 44,
    "start_time": "2023-09-22T16:53:56.816Z"
   },
   {
    "duration": 3,
    "start_time": "2023-09-22T16:53:56.861Z"
   },
   {
    "duration": 13,
    "start_time": "2023-09-22T16:53:56.866Z"
   },
   {
    "duration": 6,
    "start_time": "2023-09-22T16:53:56.880Z"
   },
   {
    "duration": 15,
    "start_time": "2023-09-22T16:53:56.888Z"
   },
   {
    "duration": 29,
    "start_time": "2023-09-22T16:53:56.904Z"
   },
   {
    "duration": 9,
    "start_time": "2023-09-22T16:53:56.935Z"
   },
   {
    "duration": 5,
    "start_time": "2023-09-22T16:53:56.946Z"
   },
   {
    "duration": 49,
    "start_time": "2023-09-22T16:53:56.953Z"
   },
   {
    "duration": 1103,
    "start_time": "2023-09-22T16:53:57.004Z"
   },
   {
    "duration": 111,
    "start_time": "2023-09-22T16:53:58.108Z"
   },
   {
    "duration": 66,
    "start_time": "2023-09-22T16:53:58.220Z"
   },
   {
    "duration": 7,
    "start_time": "2023-09-22T16:53:58.288Z"
   },
   {
    "duration": 13,
    "start_time": "2023-09-22T16:53:58.296Z"
   },
   {
    "duration": 68659,
    "start_time": "2023-09-22T16:53:58.311Z"
   },
   {
    "duration": 21,
    "start_time": "2023-09-22T16:55:06.972Z"
   },
   {
    "duration": 112,
    "start_time": "2023-09-22T16:55:06.994Z"
   },
   {
    "duration": 15,
    "start_time": "2023-09-22T16:55:07.107Z"
   },
   {
    "duration": 5,
    "start_time": "2023-09-22T16:55:07.123Z"
   },
   {
    "duration": 143,
    "start_time": "2023-09-22T16:55:07.129Z"
   },
   {
    "duration": 196,
    "start_time": "2023-09-22T16:55:07.274Z"
   },
   {
    "duration": 10,
    "start_time": "2023-09-22T16:55:42.657Z"
   },
   {
    "duration": 191,
    "start_time": "2023-09-22T16:56:03.974Z"
   },
   {
    "duration": 180,
    "start_time": "2023-09-22T16:56:15.293Z"
   },
   {
    "duration": 10,
    "start_time": "2023-09-22T16:56:17.031Z"
   },
   {
    "duration": 198,
    "start_time": "2023-09-22T16:58:15.770Z"
   },
   {
    "duration": 13,
    "start_time": "2023-09-22T16:58:18.459Z"
   },
   {
    "duration": 194,
    "start_time": "2023-09-22T16:58:27.932Z"
   },
   {
    "duration": 10,
    "start_time": "2023-09-22T16:58:29.686Z"
   },
   {
    "duration": 185,
    "start_time": "2023-09-22T16:58:32.983Z"
   },
   {
    "duration": 11,
    "start_time": "2023-09-22T16:58:34.794Z"
   },
   {
    "duration": 184,
    "start_time": "2023-09-22T16:59:02.773Z"
   },
   {
    "duration": 10,
    "start_time": "2023-09-22T16:59:05.025Z"
   },
   {
    "duration": 202,
    "start_time": "2023-09-22T16:59:12.057Z"
   },
   {
    "duration": 10,
    "start_time": "2023-09-22T16:59:13.708Z"
   },
   {
    "duration": 200,
    "start_time": "2023-09-22T17:00:22.892Z"
   },
   {
    "duration": 12,
    "start_time": "2023-09-22T17:00:24.755Z"
   },
   {
    "duration": 188,
    "start_time": "2023-09-22T17:00:42.022Z"
   },
   {
    "duration": 10,
    "start_time": "2023-09-22T17:00:43.450Z"
   },
   {
    "duration": 191,
    "start_time": "2023-09-22T17:01:14.984Z"
   },
   {
    "duration": 10,
    "start_time": "2023-09-22T17:01:16.457Z"
   },
   {
    "duration": 191,
    "start_time": "2023-09-22T17:09:39.333Z"
   },
   {
    "duration": 14,
    "start_time": "2023-09-22T17:09:41.884Z"
   },
   {
    "duration": 106,
    "start_time": "2023-09-22T17:44:22.198Z"
   },
   {
    "duration": 14,
    "start_time": "2023-09-22T17:45:24.979Z"
   },
   {
    "duration": 8,
    "start_time": "2023-09-22T17:46:21.965Z"
   },
   {
    "duration": 10,
    "start_time": "2023-09-22T17:47:41.020Z"
   },
   {
    "duration": 10,
    "start_time": "2023-09-22T17:47:45.663Z"
   },
   {
    "duration": 3,
    "start_time": "2023-09-22T17:48:20.286Z"
   },
   {
    "duration": 11,
    "start_time": "2023-09-22T17:52:22.776Z"
   },
   {
    "duration": 12,
    "start_time": "2023-09-22T17:52:37.378Z"
   },
   {
    "duration": 211,
    "start_time": "2023-09-22T17:58:50.616Z"
   },
   {
    "duration": 11,
    "start_time": "2023-09-22T17:58:55.133Z"
   },
   {
    "duration": 14,
    "start_time": "2023-09-22T17:59:03.383Z"
   },
   {
    "duration": 230,
    "start_time": "2023-09-22T18:38:02.397Z"
   },
   {
    "duration": 12,
    "start_time": "2023-09-22T18:38:05.163Z"
   },
   {
    "duration": 229,
    "start_time": "2023-09-22T18:38:27.303Z"
   },
   {
    "duration": 11,
    "start_time": "2023-09-22T18:38:29.323Z"
   },
   {
    "duration": 50,
    "start_time": "2023-09-22T18:38:33.987Z"
   },
   {
    "duration": 240,
    "start_time": "2023-09-22T18:38:38.950Z"
   },
   {
    "duration": 12,
    "start_time": "2023-09-22T18:38:40.587Z"
   },
   {
    "duration": 231,
    "start_time": "2023-09-22T18:38:45.437Z"
   },
   {
    "duration": 11,
    "start_time": "2023-09-22T18:38:47.230Z"
   },
   {
    "duration": 53,
    "start_time": "2023-09-22T18:38:53.527Z"
   },
   {
    "duration": 237,
    "start_time": "2023-09-22T18:38:56.072Z"
   },
   {
    "duration": 12,
    "start_time": "2023-09-22T18:38:58.274Z"
   },
   {
    "duration": 227,
    "start_time": "2023-09-22T18:39:01.168Z"
   },
   {
    "duration": 13,
    "start_time": "2023-09-22T18:39:02.908Z"
   },
   {
    "duration": 217,
    "start_time": "2023-09-22T18:39:26.996Z"
   },
   {
    "duration": 12,
    "start_time": "2023-09-22T18:39:28.820Z"
   },
   {
    "duration": 221,
    "start_time": "2023-09-22T18:39:38.138Z"
   },
   {
    "duration": 13,
    "start_time": "2023-09-22T18:39:40.219Z"
   },
   {
    "duration": 207,
    "start_time": "2023-09-22T18:39:43.557Z"
   },
   {
    "duration": 12,
    "start_time": "2023-09-22T18:39:45.571Z"
   },
   {
    "duration": 54,
    "start_time": "2023-09-22T18:39:49.918Z"
   },
   {
    "duration": 51,
    "start_time": "2023-09-22T18:39:53.826Z"
   },
   {
    "duration": 50,
    "start_time": "2023-09-22T18:39:57.101Z"
   },
   {
    "duration": 225,
    "start_time": "2023-09-22T18:39:59.912Z"
   },
   {
    "duration": 12,
    "start_time": "2023-09-22T18:40:02.717Z"
   },
   {
    "duration": 221,
    "start_time": "2023-09-22T18:40:22.728Z"
   },
   {
    "duration": 14,
    "start_time": "2023-09-22T18:40:24.470Z"
   },
   {
    "duration": 225,
    "start_time": "2023-09-22T18:51:33.116Z"
   },
   {
    "duration": 12,
    "start_time": "2023-09-22T18:51:35.115Z"
   },
   {
    "duration": 12,
    "start_time": "2023-09-22T18:56:40.847Z"
   },
   {
    "duration": 26,
    "start_time": "2023-09-22T19:00:00.287Z"
   },
   {
    "duration": 26,
    "start_time": "2023-09-22T19:00:09.040Z"
   },
   {
    "duration": 26,
    "start_time": "2023-09-22T19:00:13.238Z"
   },
   {
    "duration": 30,
    "start_time": "2023-09-22T19:00:19.098Z"
   },
   {
    "duration": 25,
    "start_time": "2023-09-22T19:00:23.305Z"
   },
   {
    "duration": 17,
    "start_time": "2023-09-22T19:04:46.970Z"
   },
   {
    "duration": 6,
    "start_time": "2023-09-22T19:04:51.552Z"
   },
   {
    "duration": 27,
    "start_time": "2023-09-22T19:06:14.104Z"
   },
   {
    "duration": 54,
    "start_time": "2023-09-22T19:32:51.674Z"
   },
   {
    "duration": 402,
    "start_time": "2023-09-22T19:32:55.476Z"
   },
   {
    "duration": 17,
    "start_time": "2023-09-22T19:33:02.138Z"
   },
   {
    "duration": 25,
    "start_time": "2023-09-22T19:33:12.538Z"
   },
   {
    "duration": 2335,
    "start_time": "2023-09-22T19:44:34.466Z"
   },
   {
    "duration": 25,
    "start_time": "2023-09-22T19:44:36.802Z"
   },
   {
    "duration": 12,
    "start_time": "2023-09-22T19:44:44.509Z"
   },
   {
    "duration": 13,
    "start_time": "2023-09-22T19:45:05.751Z"
   },
   {
    "duration": 5212,
    "start_time": "2023-09-22T19:45:39.306Z"
   },
   {
    "duration": 15,
    "start_time": "2023-09-22T19:45:47.027Z"
   },
   {
    "duration": 131,
    "start_time": "2023-09-22T19:49:40.149Z"
   },
   {
    "duration": 15,
    "start_time": "2023-09-22T19:49:47.913Z"
   },
   {
    "duration": 15,
    "start_time": "2023-09-22T19:50:31.012Z"
   },
   {
    "duration": 11,
    "start_time": "2023-09-22T19:52:08.234Z"
   },
   {
    "duration": 10,
    "start_time": "2023-09-22T19:52:31.972Z"
   },
   {
    "duration": 10,
    "start_time": "2023-09-22T19:53:17.601Z"
   },
   {
    "duration": 10,
    "start_time": "2023-09-22T19:53:58.685Z"
   },
   {
    "duration": 27,
    "start_time": "2023-09-22T19:55:06.023Z"
   },
   {
    "duration": 14125,
    "start_time": "2023-09-22T19:55:22.001Z"
   },
   {
    "duration": 17,
    "start_time": "2023-09-22T19:57:41.821Z"
   },
   {
    "duration": 12,
    "start_time": "2023-09-22T19:58:37.326Z"
   },
   {
    "duration": 15,
    "start_time": "2023-09-22T19:59:04.113Z"
   },
   {
    "duration": 10,
    "start_time": "2023-09-22T19:59:12.204Z"
   },
   {
    "duration": 14133,
    "start_time": "2023-09-22T20:00:33.189Z"
   },
   {
    "duration": 11,
    "start_time": "2023-09-22T20:00:52.026Z"
   },
   {
    "duration": 12,
    "start_time": "2023-09-22T20:01:01.821Z"
   },
   {
    "duration": 10,
    "start_time": "2023-09-22T20:01:15.683Z"
   },
   {
    "duration": 9,
    "start_time": "2023-09-22T20:02:00.020Z"
   },
   {
    "duration": 9,
    "start_time": "2023-09-22T20:02:09.996Z"
   },
   {
    "duration": 13,
    "start_time": "2023-09-22T20:03:05.913Z"
   },
   {
    "duration": 76,
    "start_time": "2023-09-22T20:03:35.823Z"
   },
   {
    "duration": 12,
    "start_time": "2023-09-22T20:03:42.540Z"
   },
   {
    "duration": 12,
    "start_time": "2023-09-22T20:03:56.604Z"
   },
   {
    "duration": 14,
    "start_time": "2023-09-22T20:04:38.223Z"
   },
   {
    "duration": 14,
    "start_time": "2023-09-22T20:05:13.160Z"
   },
   {
    "duration": 11,
    "start_time": "2023-09-22T20:05:48.777Z"
   },
   {
    "duration": 7,
    "start_time": "2023-09-22T20:11:46.583Z"
   },
   {
    "duration": 12,
    "start_time": "2023-09-22T20:11:50.938Z"
   },
   {
    "duration": 12,
    "start_time": "2023-09-22T20:14:11.718Z"
   },
   {
    "duration": 11,
    "start_time": "2023-09-22T20:14:37.842Z"
   },
   {
    "duration": 2,
    "start_time": "2023-09-22T20:14:44.331Z"
   },
   {
    "duration": 3,
    "start_time": "2023-09-22T20:15:14.384Z"
   },
   {
    "duration": 2,
    "start_time": "2023-09-22T20:17:30.046Z"
   },
   {
    "duration": 77400,
    "start_time": "2023-09-22T20:19:12.961Z"
   },
   {
    "duration": 18,
    "start_time": "2023-09-22T20:23:30.797Z"
   },
   {
    "duration": 8667,
    "start_time": "2023-09-22T20:26:55.811Z"
   },
   {
    "duration": 13,
    "start_time": "2023-09-22T20:27:52.431Z"
   },
   {
    "duration": 12,
    "start_time": "2023-09-22T20:29:57.071Z"
   },
   {
    "duration": 10,
    "start_time": "2023-09-22T20:30:04.833Z"
   },
   {
    "duration": 15,
    "start_time": "2023-09-22T20:31:07.597Z"
   },
   {
    "duration": 23,
    "start_time": "2023-09-22T20:31:18.781Z"
   },
   {
    "duration": 9400,
    "start_time": "2023-09-22T20:32:37.799Z"
   },
   {
    "duration": 23,
    "start_time": "2023-09-22T20:33:54.559Z"
   },
   {
    "duration": 5229,
    "start_time": "2023-09-22T20:36:47.458Z"
   },
   {
    "duration": 12,
    "start_time": "2023-09-22T20:36:54.930Z"
   },
   {
    "duration": 11,
    "start_time": "2023-09-22T20:37:02.568Z"
   }
  ],
  "kernelspec": {
   "display_name": "Python 3 (ipykernel)",
   "language": "python",
   "name": "python3"
  },
  "language_info": {
   "codemirror_mode": {
    "name": "ipython",
    "version": 3
   },
   "file_extension": ".py",
   "mimetype": "text/x-python",
   "name": "python",
   "nbconvert_exporter": "python",
   "pygments_lexer": "ipython3",
   "version": "3.9.5"
  },
  "toc": {
   "base_numbering": 1,
   "nav_menu": {},
   "number_sections": true,
   "sideBar": true,
   "skip_h1_title": true,
   "title_cell": "Table of Contents",
   "title_sidebar": "Contents",
   "toc_cell": false,
   "toc_position": {
    "height": "calc(100% - 180px)",
    "left": "10px",
    "top": "150px",
    "width": "498px"
   },
   "toc_section_display": true,
   "toc_window_display": true
  }
 },
 "nbformat": 4,
 "nbformat_minor": 2
}
